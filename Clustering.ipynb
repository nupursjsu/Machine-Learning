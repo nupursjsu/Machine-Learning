{
  "nbformat": 4,
  "nbformat_minor": 0,
  "metadata": {
    "colab": {
      "name": "Clustering.ipynb",
      "provenance": [],
      "collapsed_sections": [],
      "machine_shape": "hm",
      "mount_file_id": "1MT9AJ_ByBy10ugtStjMnP8fz2hfYySzK",
      "authorship_tag": "ABX9TyOx0iUxGqepp0ezmOZzNCXf",
      "include_colab_link": true
    },
    "kernelspec": {
      "name": "python3",
      "display_name": "Python 3"
    },
    "accelerator": "TPU"
  },
  "cells": [
    {
      "cell_type": "markdown",
      "metadata": {
        "id": "view-in-github",
        "colab_type": "text"
      },
      "source": [
        "<a href=\"https://colab.research.google.com/github/nupursjsu/Machine-Learning/blob/master/Clustering.ipynb\" target=\"_parent\"><img src=\"https://colab.research.google.com/assets/colab-badge.svg\" alt=\"Open In Colab\"/></a>"
      ]
    },
    {
      "cell_type": "code",
      "metadata": {
        "id": "pDNW4-l51qwl",
        "colab_type": "code",
        "colab": {}
      },
      "source": [
        "#Importing Libraries\n",
        "import sqlite3\n",
        "import pandas as pd\n",
        "from matplotlib import pyplot as plt\n",
        "from sklearn.cluster import KMeans"
      ],
      "execution_count": 0,
      "outputs": []
    },
    {
      "cell_type": "code",
      "metadata": {
        "id": "-jfXfVVa2nSs",
        "colab_type": "code",
        "colab": {
          "base_uri": "https://localhost:8080/",
          "height": 71
        },
        "outputId": "f989b418-1370-4d56-cb74-594fbc0d5f83"
      },
      "source": [
        "#Loading dataset\n",
        "df = pd.read_csv('/content/drive/My Drive/fire.csv')"
      ],
      "execution_count": 4,
      "outputs": [
        {
          "output_type": "stream",
          "text": [
            "/usr/local/lib/python3.6/dist-packages/IPython/core/interactiveshell.py:2718: DtypeWarning: Columns (9,11,12,13,14,15,16,17,18,19,36,38) have mixed types. Specify dtype option on import or set low_memory=False.\n",
            "  interactivity=interactivity, compiler=compiler, result=result)\n"
          ],
          "name": "stderr"
        }
      ]
    },
    {
      "cell_type": "code",
      "metadata": {
        "id": "Khi4PtkK5kN9",
        "colab_type": "code",
        "colab": {
          "base_uri": "https://localhost:8080/",
          "height": 326
        },
        "outputId": "f14043c2-4c28-427d-8a90-65e2dbfcc83c"
      },
      "source": [
        "#Displaying first few records\n",
        "df.head()"
      ],
      "execution_count": 5,
      "outputs": [
        {
          "output_type": "execute_result",
          "data": {
            "text/html": [
              "<div>\n",
              "<style scoped>\n",
              "    .dataframe tbody tr th:only-of-type {\n",
              "        vertical-align: middle;\n",
              "    }\n",
              "\n",
              "    .dataframe tbody tr th {\n",
              "        vertical-align: top;\n",
              "    }\n",
              "\n",
              "    .dataframe thead th {\n",
              "        text-align: right;\n",
              "    }\n",
              "</style>\n",
              "<table border=\"1\" class=\"dataframe\">\n",
              "  <thead>\n",
              "    <tr style=\"text-align: right;\">\n",
              "      <th></th>\n",
              "      <th>Unnamed: 0</th>\n",
              "      <th>OBJECTID</th>\n",
              "      <th>FOD_ID</th>\n",
              "      <th>FPA_ID</th>\n",
              "      <th>SOURCE_SYSTEM_TYPE</th>\n",
              "      <th>SOURCE_SYSTEM</th>\n",
              "      <th>NWCG_REPORTING_AGENCY</th>\n",
              "      <th>NWCG_REPORTING_UNIT_ID</th>\n",
              "      <th>NWCG_REPORTING_UNIT_NAME</th>\n",
              "      <th>SOURCE_REPORTING_UNIT</th>\n",
              "      <th>SOURCE_REPORTING_UNIT_NAME</th>\n",
              "      <th>LOCAL_FIRE_REPORT_ID</th>\n",
              "      <th>LOCAL_INCIDENT_ID</th>\n",
              "      <th>FIRE_CODE</th>\n",
              "      <th>FIRE_NAME</th>\n",
              "      <th>ICS_209_INCIDENT_NUMBER</th>\n",
              "      <th>ICS_209_NAME</th>\n",
              "      <th>MTBS_ID</th>\n",
              "      <th>MTBS_FIRE_NAME</th>\n",
              "      <th>COMPLEX_NAME</th>\n",
              "      <th>FIRE_YEAR</th>\n",
              "      <th>DISCOVERY_DATE</th>\n",
              "      <th>DISCOVERY_DOY</th>\n",
              "      <th>DISCOVERY_TIME</th>\n",
              "      <th>STAT_CAUSE_CODE</th>\n",
              "      <th>STAT_CAUSE_DESCR</th>\n",
              "      <th>CONT_DATE</th>\n",
              "      <th>CONT_DOY</th>\n",
              "      <th>CONT_TIME</th>\n",
              "      <th>FIRE_SIZE</th>\n",
              "      <th>FIRE_SIZE_CLASS</th>\n",
              "      <th>LATITUDE</th>\n",
              "      <th>LONGITUDE</th>\n",
              "      <th>OWNER_CODE</th>\n",
              "      <th>OWNER_DESCR</th>\n",
              "      <th>STATE</th>\n",
              "      <th>COUNTY</th>\n",
              "      <th>FIPS_CODE</th>\n",
              "      <th>FIPS_NAME</th>\n",
              "      <th>Shape</th>\n",
              "    </tr>\n",
              "  </thead>\n",
              "  <tbody>\n",
              "    <tr>\n",
              "      <th>0</th>\n",
              "      <td>0</td>\n",
              "      <td>1</td>\n",
              "      <td>1</td>\n",
              "      <td>FS-1418826</td>\n",
              "      <td>FED</td>\n",
              "      <td>FS-FIRESTAT</td>\n",
              "      <td>FS</td>\n",
              "      <td>USCAPNF</td>\n",
              "      <td>Plumas National Forest</td>\n",
              "      <td>511</td>\n",
              "      <td>Plumas National Forest</td>\n",
              "      <td>1</td>\n",
              "      <td>PNF-47</td>\n",
              "      <td>BJ8K</td>\n",
              "      <td>FOUNTAIN</td>\n",
              "      <td>NaN</td>\n",
              "      <td>NaN</td>\n",
              "      <td>NaN</td>\n",
              "      <td>NaN</td>\n",
              "      <td>NaN</td>\n",
              "      <td>2005</td>\n",
              "      <td>2453403.5</td>\n",
              "      <td>33</td>\n",
              "      <td>1300.0</td>\n",
              "      <td>9.0</td>\n",
              "      <td>Miscellaneous</td>\n",
              "      <td>2453403.5</td>\n",
              "      <td>33.0</td>\n",
              "      <td>1730.0</td>\n",
              "      <td>0.10</td>\n",
              "      <td>A</td>\n",
              "      <td>40.036944</td>\n",
              "      <td>-121.005833</td>\n",
              "      <td>5.0</td>\n",
              "      <td>USFS</td>\n",
              "      <td>CA</td>\n",
              "      <td>63</td>\n",
              "      <td>63.0</td>\n",
              "      <td>Plumas</td>\n",
              "      <td>b'\\x00\\x01\\xad\\x10\\x00\\x00\\xe8d\\xc2\\x92_@^\\xc0...</td>\n",
              "    </tr>\n",
              "    <tr>\n",
              "      <th>1</th>\n",
              "      <td>1</td>\n",
              "      <td>2</td>\n",
              "      <td>2</td>\n",
              "      <td>FS-1418827</td>\n",
              "      <td>FED</td>\n",
              "      <td>FS-FIRESTAT</td>\n",
              "      <td>FS</td>\n",
              "      <td>USCAENF</td>\n",
              "      <td>Eldorado National Forest</td>\n",
              "      <td>503</td>\n",
              "      <td>Eldorado National Forest</td>\n",
              "      <td>13</td>\n",
              "      <td>13</td>\n",
              "      <td>AAC0</td>\n",
              "      <td>PIGEON</td>\n",
              "      <td>NaN</td>\n",
              "      <td>NaN</td>\n",
              "      <td>NaN</td>\n",
              "      <td>NaN</td>\n",
              "      <td>NaN</td>\n",
              "      <td>2004</td>\n",
              "      <td>2453137.5</td>\n",
              "      <td>133</td>\n",
              "      <td>845.0</td>\n",
              "      <td>1.0</td>\n",
              "      <td>Lightning</td>\n",
              "      <td>2453137.5</td>\n",
              "      <td>133.0</td>\n",
              "      <td>1530.0</td>\n",
              "      <td>0.25</td>\n",
              "      <td>A</td>\n",
              "      <td>38.933056</td>\n",
              "      <td>-120.404444</td>\n",
              "      <td>5.0</td>\n",
              "      <td>USFS</td>\n",
              "      <td>CA</td>\n",
              "      <td>61</td>\n",
              "      <td>61.0</td>\n",
              "      <td>Placer</td>\n",
              "      <td>b'\\x00\\x01\\xad\\x10\\x00\\x00T\\xb6\\xeej\\xe2\\x19^\\...</td>\n",
              "    </tr>\n",
              "    <tr>\n",
              "      <th>2</th>\n",
              "      <td>2</td>\n",
              "      <td>3</td>\n",
              "      <td>3</td>\n",
              "      <td>FS-1418835</td>\n",
              "      <td>FED</td>\n",
              "      <td>FS-FIRESTAT</td>\n",
              "      <td>FS</td>\n",
              "      <td>USCAENF</td>\n",
              "      <td>Eldorado National Forest</td>\n",
              "      <td>503</td>\n",
              "      <td>Eldorado National Forest</td>\n",
              "      <td>27</td>\n",
              "      <td>021</td>\n",
              "      <td>A32W</td>\n",
              "      <td>SLACK</td>\n",
              "      <td>NaN</td>\n",
              "      <td>NaN</td>\n",
              "      <td>NaN</td>\n",
              "      <td>NaN</td>\n",
              "      <td>NaN</td>\n",
              "      <td>2004</td>\n",
              "      <td>2453156.5</td>\n",
              "      <td>152</td>\n",
              "      <td>1921.0</td>\n",
              "      <td>5.0</td>\n",
              "      <td>Debris Burning</td>\n",
              "      <td>2453156.5</td>\n",
              "      <td>152.0</td>\n",
              "      <td>2024.0</td>\n",
              "      <td>0.10</td>\n",
              "      <td>A</td>\n",
              "      <td>38.984167</td>\n",
              "      <td>-120.735556</td>\n",
              "      <td>13.0</td>\n",
              "      <td>STATE OR PRIVATE</td>\n",
              "      <td>CA</td>\n",
              "      <td>17</td>\n",
              "      <td>17.0</td>\n",
              "      <td>El Dorado</td>\n",
              "      <td>b'\\x00\\x01\\xad\\x10\\x00\\x00\\xd0\\xa5\\xa0W\\x13/^\\...</td>\n",
              "    </tr>\n",
              "    <tr>\n",
              "      <th>3</th>\n",
              "      <td>3</td>\n",
              "      <td>4</td>\n",
              "      <td>4</td>\n",
              "      <td>FS-1418845</td>\n",
              "      <td>FED</td>\n",
              "      <td>FS-FIRESTAT</td>\n",
              "      <td>FS</td>\n",
              "      <td>USCAENF</td>\n",
              "      <td>Eldorado National Forest</td>\n",
              "      <td>503</td>\n",
              "      <td>Eldorado National Forest</td>\n",
              "      <td>43</td>\n",
              "      <td>6</td>\n",
              "      <td>NaN</td>\n",
              "      <td>DEER</td>\n",
              "      <td>NaN</td>\n",
              "      <td>NaN</td>\n",
              "      <td>NaN</td>\n",
              "      <td>NaN</td>\n",
              "      <td>NaN</td>\n",
              "      <td>2004</td>\n",
              "      <td>2453184.5</td>\n",
              "      <td>180</td>\n",
              "      <td>1600.0</td>\n",
              "      <td>1.0</td>\n",
              "      <td>Lightning</td>\n",
              "      <td>2453189.5</td>\n",
              "      <td>185.0</td>\n",
              "      <td>1400.0</td>\n",
              "      <td>0.10</td>\n",
              "      <td>A</td>\n",
              "      <td>38.559167</td>\n",
              "      <td>-119.913333</td>\n",
              "      <td>5.0</td>\n",
              "      <td>USFS</td>\n",
              "      <td>CA</td>\n",
              "      <td>3</td>\n",
              "      <td>3.0</td>\n",
              "      <td>Alpine</td>\n",
              "      <td>b'\\x00\\x01\\xad\\x10\\x00\\x00\\x94\\xac\\xa3\\rt\\xfa]...</td>\n",
              "    </tr>\n",
              "    <tr>\n",
              "      <th>4</th>\n",
              "      <td>4</td>\n",
              "      <td>5</td>\n",
              "      <td>5</td>\n",
              "      <td>FS-1418847</td>\n",
              "      <td>FED</td>\n",
              "      <td>FS-FIRESTAT</td>\n",
              "      <td>FS</td>\n",
              "      <td>USCAENF</td>\n",
              "      <td>Eldorado National Forest</td>\n",
              "      <td>503</td>\n",
              "      <td>Eldorado National Forest</td>\n",
              "      <td>44</td>\n",
              "      <td>7</td>\n",
              "      <td>NaN</td>\n",
              "      <td>STEVENOT</td>\n",
              "      <td>NaN</td>\n",
              "      <td>NaN</td>\n",
              "      <td>NaN</td>\n",
              "      <td>NaN</td>\n",
              "      <td>NaN</td>\n",
              "      <td>2004</td>\n",
              "      <td>2453184.5</td>\n",
              "      <td>180</td>\n",
              "      <td>1600.0</td>\n",
              "      <td>1.0</td>\n",
              "      <td>Lightning</td>\n",
              "      <td>2453189.5</td>\n",
              "      <td>185.0</td>\n",
              "      <td>1200.0</td>\n",
              "      <td>0.10</td>\n",
              "      <td>A</td>\n",
              "      <td>38.559167</td>\n",
              "      <td>-119.933056</td>\n",
              "      <td>5.0</td>\n",
              "      <td>USFS</td>\n",
              "      <td>CA</td>\n",
              "      <td>3</td>\n",
              "      <td>3.0</td>\n",
              "      <td>Alpine</td>\n",
              "      <td>b'\\x00\\x01\\xad\\x10\\x00\\x00@\\xe3\\xaa.\\xb7\\xfb]\\...</td>\n",
              "    </tr>\n",
              "  </tbody>\n",
              "</table>\n",
              "</div>"
            ],
            "text/plain": [
              "   Unnamed: 0  ...                                              Shape\n",
              "0           0  ...  b'\\x00\\x01\\xad\\x10\\x00\\x00\\xe8d\\xc2\\x92_@^\\xc0...\n",
              "1           1  ...  b'\\x00\\x01\\xad\\x10\\x00\\x00T\\xb6\\xeej\\xe2\\x19^\\...\n",
              "2           2  ...  b'\\x00\\x01\\xad\\x10\\x00\\x00\\xd0\\xa5\\xa0W\\x13/^\\...\n",
              "3           3  ...  b'\\x00\\x01\\xad\\x10\\x00\\x00\\x94\\xac\\xa3\\rt\\xfa]...\n",
              "4           4  ...  b'\\x00\\x01\\xad\\x10\\x00\\x00@\\xe3\\xaa.\\xb7\\xfb]\\...\n",
              "\n",
              "[5 rows x 40 columns]"
            ]
          },
          "metadata": {
            "tags": []
          },
          "execution_count": 5
        }
      ]
    },
    {
      "cell_type": "code",
      "metadata": {
        "id": "eopKhb7P6Cdq",
        "colab_type": "code",
        "colab": {
          "base_uri": "https://localhost:8080/",
          "height": 714
        },
        "outputId": "db0b66e6-dbcd-488f-bd30-daf6024c9b59"
      },
      "source": [
        "#Checking missing values in columns\n",
        "df.isnull().sum()"
      ],
      "execution_count": 6,
      "outputs": [
        {
          "output_type": "execute_result",
          "data": {
            "text/plain": [
              "Unnamed: 0                          0\n",
              "OBJECTID                            0\n",
              "FOD_ID                              0\n",
              "FPA_ID                              0\n",
              "SOURCE_SYSTEM_TYPE                  0\n",
              "SOURCE_SYSTEM                       0\n",
              "NWCG_REPORTING_AGENCY               0\n",
              "NWCG_REPORTING_UNIT_ID              0\n",
              "NWCG_REPORTING_UNIT_NAME            0\n",
              "SOURCE_REPORTING_UNIT               0\n",
              "SOURCE_REPORTING_UNIT_NAME          0\n",
              "LOCAL_FIRE_REPORT_ID          1459286\n",
              "LOCAL_INCIDENT_ID              820821\n",
              "FIRE_CODE                     1555741\n",
              "FIRE_NAME                      960479\n",
              "ICS_209_INCIDENT_NUMBER       1854748\n",
              "ICS_209_NAME                  1854748\n",
              "MTBS_ID                       1869462\n",
              "MTBS_FIRE_NAME                1869462\n",
              "COMPLEX_NAME                  1875282\n",
              "FIRE_YEAR                           0\n",
              "DISCOVERY_DATE                      0\n",
              "DISCOVERY_DOY                       0\n",
              "DISCOVERY_TIME                 882638\n",
              "STAT_CAUSE_CODE                     0\n",
              "STAT_CAUSE_DESCR                    0\n",
              "CONT_DATE                      891531\n",
              "CONT_DOY                       891531\n",
              "CONT_TIME                      972553\n",
              "FIRE_SIZE                           0\n",
              "FIRE_SIZE_CLASS                     0\n",
              "LATITUDE                            0\n",
              "LONGITUDE                           0\n",
              "OWNER_CODE                          0\n",
              "OWNER_DESCR                         0\n",
              "STATE                               0\n",
              "COUNTY                         678148\n",
              "FIPS_CODE                      678148\n",
              "FIPS_NAME                      678148\n",
              "Shape                               0\n",
              "dtype: int64"
            ]
          },
          "metadata": {
            "tags": []
          },
          "execution_count": 6
        }
      ]
    },
    {
      "cell_type": "code",
      "metadata": {
        "id": "_TsQEzg16uXu",
        "colab_type": "code",
        "colab": {
          "base_uri": "https://localhost:8080/",
          "height": 34
        },
        "outputId": "fee7bf5d-4f73-4eb9-bb65-ca72c633fd5a"
      },
      "source": [
        "#Displaying the shape of data\n",
        "df.shape"
      ],
      "execution_count": 7,
      "outputs": [
        {
          "output_type": "execute_result",
          "data": {
            "text/plain": [
              "(1880465, 40)"
            ]
          },
          "metadata": {
            "tags": []
          },
          "execution_count": 7
        }
      ]
    },
    {
      "cell_type": "code",
      "metadata": {
        "id": "v6WfbO2x7Dpl",
        "colab_type": "code",
        "colab": {}
      },
      "source": [
        "#Creating a new data frame with required columns\n",
        "new_df = df[['FIRE_YEAR','STAT_CAUSE_DESCR','LATITUDE','LONGITUDE','STATE','DISCOVERY_DATE','FIRE_SIZE']].copy()"
      ],
      "execution_count": 0,
      "outputs": []
    },
    {
      "cell_type": "code",
      "metadata": {
        "id": "uRTTKkEqBB0P",
        "colab_type": "code",
        "colab": {
          "base_uri": "https://localhost:8080/",
          "height": 204
        },
        "outputId": "96c343d0-aa90-4d24-f899-fb5c42482bd0"
      },
      "source": [
        "#Displaying top 5 records\n",
        "new_df.head()"
      ],
      "execution_count": 9,
      "outputs": [
        {
          "output_type": "execute_result",
          "data": {
            "text/html": [
              "<div>\n",
              "<style scoped>\n",
              "    .dataframe tbody tr th:only-of-type {\n",
              "        vertical-align: middle;\n",
              "    }\n",
              "\n",
              "    .dataframe tbody tr th {\n",
              "        vertical-align: top;\n",
              "    }\n",
              "\n",
              "    .dataframe thead th {\n",
              "        text-align: right;\n",
              "    }\n",
              "</style>\n",
              "<table border=\"1\" class=\"dataframe\">\n",
              "  <thead>\n",
              "    <tr style=\"text-align: right;\">\n",
              "      <th></th>\n",
              "      <th>FIRE_YEAR</th>\n",
              "      <th>STAT_CAUSE_DESCR</th>\n",
              "      <th>LATITUDE</th>\n",
              "      <th>LONGITUDE</th>\n",
              "      <th>STATE</th>\n",
              "      <th>DISCOVERY_DATE</th>\n",
              "      <th>FIRE_SIZE</th>\n",
              "    </tr>\n",
              "  </thead>\n",
              "  <tbody>\n",
              "    <tr>\n",
              "      <th>0</th>\n",
              "      <td>2005</td>\n",
              "      <td>Miscellaneous</td>\n",
              "      <td>40.036944</td>\n",
              "      <td>-121.005833</td>\n",
              "      <td>CA</td>\n",
              "      <td>2453403.5</td>\n",
              "      <td>0.10</td>\n",
              "    </tr>\n",
              "    <tr>\n",
              "      <th>1</th>\n",
              "      <td>2004</td>\n",
              "      <td>Lightning</td>\n",
              "      <td>38.933056</td>\n",
              "      <td>-120.404444</td>\n",
              "      <td>CA</td>\n",
              "      <td>2453137.5</td>\n",
              "      <td>0.25</td>\n",
              "    </tr>\n",
              "    <tr>\n",
              "      <th>2</th>\n",
              "      <td>2004</td>\n",
              "      <td>Debris Burning</td>\n",
              "      <td>38.984167</td>\n",
              "      <td>-120.735556</td>\n",
              "      <td>CA</td>\n",
              "      <td>2453156.5</td>\n",
              "      <td>0.10</td>\n",
              "    </tr>\n",
              "    <tr>\n",
              "      <th>3</th>\n",
              "      <td>2004</td>\n",
              "      <td>Lightning</td>\n",
              "      <td>38.559167</td>\n",
              "      <td>-119.913333</td>\n",
              "      <td>CA</td>\n",
              "      <td>2453184.5</td>\n",
              "      <td>0.10</td>\n",
              "    </tr>\n",
              "    <tr>\n",
              "      <th>4</th>\n",
              "      <td>2004</td>\n",
              "      <td>Lightning</td>\n",
              "      <td>38.559167</td>\n",
              "      <td>-119.933056</td>\n",
              "      <td>CA</td>\n",
              "      <td>2453184.5</td>\n",
              "      <td>0.10</td>\n",
              "    </tr>\n",
              "  </tbody>\n",
              "</table>\n",
              "</div>"
            ],
            "text/plain": [
              "   FIRE_YEAR STAT_CAUSE_DESCR   LATITUDE  ...  STATE DISCOVERY_DATE  FIRE_SIZE\n",
              "0       2005    Miscellaneous  40.036944  ...     CA      2453403.5       0.10\n",
              "1       2004        Lightning  38.933056  ...     CA      2453137.5       0.25\n",
              "2       2004   Debris Burning  38.984167  ...     CA      2453156.5       0.10\n",
              "3       2004        Lightning  38.559167  ...     CA      2453184.5       0.10\n",
              "4       2004        Lightning  38.559167  ...     CA      2453184.5       0.10\n",
              "\n",
              "[5 rows x 7 columns]"
            ]
          },
          "metadata": {
            "tags": []
          },
          "execution_count": 9
        }
      ]
    },
    {
      "cell_type": "code",
      "metadata": {
        "id": "zTuvsZi3BImt",
        "colab_type": "code",
        "colab": {
          "base_uri": "https://localhost:8080/",
          "height": 204
        },
        "outputId": "92eef280-9d9d-49b8-dd6c-13845ec15773"
      },
      "source": [
        "#Converting the DISCOVERY_DATE field's Julian Date format in Gregorian dates\n",
        "new_df['DATE'] = pd.to_datetime(new_df['DISCOVERY_DATE'] - pd.Timestamp(0).to_julian_date(), unit='D')\n",
        "new_df.head() #check the data"
      ],
      "execution_count": 10,
      "outputs": [
        {
          "output_type": "execute_result",
          "data": {
            "text/html": [
              "<div>\n",
              "<style scoped>\n",
              "    .dataframe tbody tr th:only-of-type {\n",
              "        vertical-align: middle;\n",
              "    }\n",
              "\n",
              "    .dataframe tbody tr th {\n",
              "        vertical-align: top;\n",
              "    }\n",
              "\n",
              "    .dataframe thead th {\n",
              "        text-align: right;\n",
              "    }\n",
              "</style>\n",
              "<table border=\"1\" class=\"dataframe\">\n",
              "  <thead>\n",
              "    <tr style=\"text-align: right;\">\n",
              "      <th></th>\n",
              "      <th>FIRE_YEAR</th>\n",
              "      <th>STAT_CAUSE_DESCR</th>\n",
              "      <th>LATITUDE</th>\n",
              "      <th>LONGITUDE</th>\n",
              "      <th>STATE</th>\n",
              "      <th>DISCOVERY_DATE</th>\n",
              "      <th>FIRE_SIZE</th>\n",
              "      <th>DATE</th>\n",
              "    </tr>\n",
              "  </thead>\n",
              "  <tbody>\n",
              "    <tr>\n",
              "      <th>0</th>\n",
              "      <td>2005</td>\n",
              "      <td>Miscellaneous</td>\n",
              "      <td>40.036944</td>\n",
              "      <td>-121.005833</td>\n",
              "      <td>CA</td>\n",
              "      <td>2453403.5</td>\n",
              "      <td>0.10</td>\n",
              "      <td>2005-02-02</td>\n",
              "    </tr>\n",
              "    <tr>\n",
              "      <th>1</th>\n",
              "      <td>2004</td>\n",
              "      <td>Lightning</td>\n",
              "      <td>38.933056</td>\n",
              "      <td>-120.404444</td>\n",
              "      <td>CA</td>\n",
              "      <td>2453137.5</td>\n",
              "      <td>0.25</td>\n",
              "      <td>2004-05-12</td>\n",
              "    </tr>\n",
              "    <tr>\n",
              "      <th>2</th>\n",
              "      <td>2004</td>\n",
              "      <td>Debris Burning</td>\n",
              "      <td>38.984167</td>\n",
              "      <td>-120.735556</td>\n",
              "      <td>CA</td>\n",
              "      <td>2453156.5</td>\n",
              "      <td>0.10</td>\n",
              "      <td>2004-05-31</td>\n",
              "    </tr>\n",
              "    <tr>\n",
              "      <th>3</th>\n",
              "      <td>2004</td>\n",
              "      <td>Lightning</td>\n",
              "      <td>38.559167</td>\n",
              "      <td>-119.913333</td>\n",
              "      <td>CA</td>\n",
              "      <td>2453184.5</td>\n",
              "      <td>0.10</td>\n",
              "      <td>2004-06-28</td>\n",
              "    </tr>\n",
              "    <tr>\n",
              "      <th>4</th>\n",
              "      <td>2004</td>\n",
              "      <td>Lightning</td>\n",
              "      <td>38.559167</td>\n",
              "      <td>-119.933056</td>\n",
              "      <td>CA</td>\n",
              "      <td>2453184.5</td>\n",
              "      <td>0.10</td>\n",
              "      <td>2004-06-28</td>\n",
              "    </tr>\n",
              "  </tbody>\n",
              "</table>\n",
              "</div>"
            ],
            "text/plain": [
              "   FIRE_YEAR STAT_CAUSE_DESCR   LATITUDE  ...  DISCOVERY_DATE FIRE_SIZE       DATE\n",
              "0       2005    Miscellaneous  40.036944  ...       2453403.5      0.10 2005-02-02\n",
              "1       2004        Lightning  38.933056  ...       2453137.5      0.25 2004-05-12\n",
              "2       2004   Debris Burning  38.984167  ...       2453156.5      0.10 2004-05-31\n",
              "3       2004        Lightning  38.559167  ...       2453184.5      0.10 2004-06-28\n",
              "4       2004        Lightning  38.559167  ...       2453184.5      0.10 2004-06-28\n",
              "\n",
              "[5 rows x 8 columns]"
            ]
          },
          "metadata": {
            "tags": []
          },
          "execution_count": 10
        }
      ]
    },
    {
      "cell_type": "code",
      "metadata": {
        "id": "y5GHHz4lBbey",
        "colab_type": "code",
        "colab": {
          "base_uri": "https://localhost:8080/",
          "height": 204
        },
        "outputId": "428974aa-2890-498c-9036-060bbae12a2e"
      },
      "source": [
        "#Getting some additional data fields such as month and day of the week.\n",
        "new_df['MONTH'] = pd.DatetimeIndex(new_df['DATE']).month\n",
        "new_df['DAY_OF_WEEK'] = new_df['DATE'].dt.weekday_name\n",
        "new_df.head()"
      ],
      "execution_count": 11,
      "outputs": [
        {
          "output_type": "execute_result",
          "data": {
            "text/html": [
              "<div>\n",
              "<style scoped>\n",
              "    .dataframe tbody tr th:only-of-type {\n",
              "        vertical-align: middle;\n",
              "    }\n",
              "\n",
              "    .dataframe tbody tr th {\n",
              "        vertical-align: top;\n",
              "    }\n",
              "\n",
              "    .dataframe thead th {\n",
              "        text-align: right;\n",
              "    }\n",
              "</style>\n",
              "<table border=\"1\" class=\"dataframe\">\n",
              "  <thead>\n",
              "    <tr style=\"text-align: right;\">\n",
              "      <th></th>\n",
              "      <th>FIRE_YEAR</th>\n",
              "      <th>STAT_CAUSE_DESCR</th>\n",
              "      <th>LATITUDE</th>\n",
              "      <th>LONGITUDE</th>\n",
              "      <th>STATE</th>\n",
              "      <th>DISCOVERY_DATE</th>\n",
              "      <th>FIRE_SIZE</th>\n",
              "      <th>DATE</th>\n",
              "      <th>MONTH</th>\n",
              "      <th>DAY_OF_WEEK</th>\n",
              "    </tr>\n",
              "  </thead>\n",
              "  <tbody>\n",
              "    <tr>\n",
              "      <th>0</th>\n",
              "      <td>2005</td>\n",
              "      <td>Miscellaneous</td>\n",
              "      <td>40.036944</td>\n",
              "      <td>-121.005833</td>\n",
              "      <td>CA</td>\n",
              "      <td>2453403.5</td>\n",
              "      <td>0.10</td>\n",
              "      <td>2005-02-02</td>\n",
              "      <td>2</td>\n",
              "      <td>Wednesday</td>\n",
              "    </tr>\n",
              "    <tr>\n",
              "      <th>1</th>\n",
              "      <td>2004</td>\n",
              "      <td>Lightning</td>\n",
              "      <td>38.933056</td>\n",
              "      <td>-120.404444</td>\n",
              "      <td>CA</td>\n",
              "      <td>2453137.5</td>\n",
              "      <td>0.25</td>\n",
              "      <td>2004-05-12</td>\n",
              "      <td>5</td>\n",
              "      <td>Wednesday</td>\n",
              "    </tr>\n",
              "    <tr>\n",
              "      <th>2</th>\n",
              "      <td>2004</td>\n",
              "      <td>Debris Burning</td>\n",
              "      <td>38.984167</td>\n",
              "      <td>-120.735556</td>\n",
              "      <td>CA</td>\n",
              "      <td>2453156.5</td>\n",
              "      <td>0.10</td>\n",
              "      <td>2004-05-31</td>\n",
              "      <td>5</td>\n",
              "      <td>Monday</td>\n",
              "    </tr>\n",
              "    <tr>\n",
              "      <th>3</th>\n",
              "      <td>2004</td>\n",
              "      <td>Lightning</td>\n",
              "      <td>38.559167</td>\n",
              "      <td>-119.913333</td>\n",
              "      <td>CA</td>\n",
              "      <td>2453184.5</td>\n",
              "      <td>0.10</td>\n",
              "      <td>2004-06-28</td>\n",
              "      <td>6</td>\n",
              "      <td>Monday</td>\n",
              "    </tr>\n",
              "    <tr>\n",
              "      <th>4</th>\n",
              "      <td>2004</td>\n",
              "      <td>Lightning</td>\n",
              "      <td>38.559167</td>\n",
              "      <td>-119.933056</td>\n",
              "      <td>CA</td>\n",
              "      <td>2453184.5</td>\n",
              "      <td>0.10</td>\n",
              "      <td>2004-06-28</td>\n",
              "      <td>6</td>\n",
              "      <td>Monday</td>\n",
              "    </tr>\n",
              "  </tbody>\n",
              "</table>\n",
              "</div>"
            ],
            "text/plain": [
              "   FIRE_YEAR STAT_CAUSE_DESCR   LATITUDE  ...       DATE MONTH  DAY_OF_WEEK\n",
              "0       2005    Miscellaneous  40.036944  ... 2005-02-02     2    Wednesday\n",
              "1       2004        Lightning  38.933056  ... 2004-05-12     5    Wednesday\n",
              "2       2004   Debris Burning  38.984167  ... 2004-05-31     5       Monday\n",
              "3       2004        Lightning  38.559167  ... 2004-06-28     6       Monday\n",
              "4       2004        Lightning  38.559167  ... 2004-06-28     6       Monday\n",
              "\n",
              "[5 rows x 10 columns]"
            ]
          },
          "metadata": {
            "tags": []
          },
          "execution_count": 11
        }
      ]
    },
    {
      "cell_type": "code",
      "metadata": {
        "id": "GBevCNoKBw0D",
        "colab_type": "code",
        "colab": {}
      },
      "source": [
        "#Applying K-means from scikit learn library on FIRE_SIZE and MONTH column\n",
        "kmeans = KMeans(n_clusters=4,random_state=0).fit(new_df[['FIRE_SIZE','MONTH']])"
      ],
      "execution_count": 0,
      "outputs": []
    },
    {
      "cell_type": "code",
      "metadata": {
        "id": "FgeDnqEGEKHu",
        "colab_type": "code",
        "colab": {
          "base_uri": "https://localhost:8080/",
          "height": 34
        },
        "outputId": "4ec2b8d8-3db2-4647-807b-90dd09611599"
      },
      "source": [
        "kmeans.labels_"
      ],
      "execution_count": 13,
      "outputs": [
        {
          "output_type": "execute_result",
          "data": {
            "text/plain": [
              "array([0, 0, 0, ..., 0, 0, 0], dtype=int32)"
            ]
          },
          "metadata": {
            "tags": []
          },
          "execution_count": 13
        }
      ]
    },
    {
      "cell_type": "code",
      "metadata": {
        "id": "b1g7VrgdEOFJ",
        "colab_type": "code",
        "colab": {
          "base_uri": "https://localhost:8080/",
          "height": 85
        },
        "outputId": "cb5eb01f-8165-48c4-aadc-489de0fdc4fc"
      },
      "source": [
        "#Displaying the cluster centroids\n",
        "centroids = kmeans.cluster_centers_\n",
        "print(centroids)"
      ],
      "execution_count": 14,
      "outputs": [
        {
          "output_type": "stream",
          "text": [
            "[[3.33319700e+01 5.92965533e+00]\n",
            " [1.69078254e+05 6.65771812e+00]\n",
            " [4.28310032e+04 6.69135802e+00]\n",
            " [4.10260896e+05 5.96153846e+00]]\n"
          ],
          "name": "stdout"
        }
      ]
    },
    {
      "cell_type": "code",
      "metadata": {
        "id": "LYi4De4RETTD",
        "colab_type": "code",
        "colab": {}
      },
      "source": [
        "y_means = kmeans.predict(new_df[['FIRE_SIZE','MONTH']])\n",
        "#plt.scatter(new_df['MONTH'], new_df['FIRE_SIZE'], c= kmeans.labels_.astype(float), s=10, alpha=0.5)\n",
        "#plt.scatter(centroids[:, 0], centroids[:, 1], c='red', s=10)"
      ],
      "execution_count": 0,
      "outputs": []
    },
    {
      "cell_type": "code",
      "metadata": {
        "id": "DFVBLhu8NbDF",
        "colab_type": "code",
        "colab": {
          "base_uri": "https://localhost:8080/",
          "height": 282
        },
        "outputId": "5c41ce5e-d1dc-41df-8424-787245a2c0ba"
      },
      "source": [
        "#Plotting the clusters obtained\n",
        "plt.scatter(new_df['MONTH'],new_df['FIRE_SIZE'], c=y_means, s=50, cmap='viridis')"
      ],
      "execution_count": 16,
      "outputs": [
        {
          "output_type": "execute_result",
          "data": {
            "text/plain": [
              "<matplotlib.collections.PathCollection at 0x7f633e4c7f98>"
            ]
          },
          "metadata": {
            "tags": []
          },
          "execution_count": 16
        },
        {
          "output_type": "display_data",
          "data": {
            "image/png": "[encoded data removed]",
            "text/plain": [
              "<Figure size 432x288 with 1 Axes>"
            ]
          },
          "metadata": {
            "tags": []
          }
        }
      ]
    },
    {
      "cell_type": "markdown",
      "metadata": {
        "id": "PfdFa9oPY0hd",
        "colab_type": "text"
      },
      "source": [
        "**In the above k-mean clustering plot we can see the majority of the big fires have happened in the months of June and July.**"
      ]
    },
    {
      "cell_type": "code",
      "metadata": {
        "id": "Auc8vKaHUiNJ",
        "colab_type": "code",
        "colab": {}
      },
      "source": [
        "kmeans1 = KMeans(n_clusters=4,random_state=0).fit(new_df[['LATITUDE','LONGITUDE']])"
      ],
      "execution_count": 0,
      "outputs": []
    },
    {
      "cell_type": "code",
      "metadata": {
        "id": "t3Fd-ZAgWL72",
        "colab_type": "code",
        "colab": {}
      },
      "source": [
        "y_means1 = kmeans1.predict(new_df[['LATITUDE','LONGITUDE']])"
      ],
      "execution_count": 0,
      "outputs": []
    },
    {
      "cell_type": "code",
      "metadata": {
        "id": "f0AEKSNGWc6k",
        "colab_type": "code",
        "colab": {
          "base_uri": "https://localhost:8080/",
          "height": 286
        },
        "outputId": "96de0782-5bc7-4391-95d5-8015a05122a2"
      },
      "source": [
        "plt.scatter(new_df['LATITUDE'],new_df['LONGITUDE'], c=y_means1, s=50, cmap='viridis')"
      ],
      "execution_count": 19,
      "outputs": [
        {
          "output_type": "execute_result",
          "data": {
            "text/plain": [
              "<matplotlib.collections.PathCollection at 0x7f633dffee80>"
            ]
          },
          "metadata": {
            "tags": []
          },
          "execution_count": 19
        },
        {
          "output_type": "display_data",
          "data": {
            "image/png": "[encoded data removed]",
            "text/plain": [
              "<Figure size 432x288 with 1 Axes>"
            ]
          },
          "metadata": {
            "tags": []
          }
        }
      ]
    },
    {
      "cell_type": "markdown",
      "metadata": {
        "id": "RVu2__dfchL6",
        "colab_type": "text"
      },
      "source": [
        "**In the above clustering plot we can see most of the fires have occurred in longitutes between -100 and -120 which is majorly California region.**"
      ]
    },
    {
      "cell_type": "code",
      "metadata": {
        "id": "6XetG-TGiCJV",
        "colab_type": "code",
        "colab": {}
      },
      "source": [
        "#Applying K-means using tensorflow 2.0\n",
        "#Importing required libraries\n",
        "import numpy as np\n",
        "import tensorflow as tf"
      ],
      "execution_count": 0,
      "outputs": []
    },
    {
      "cell_type": "code",
      "metadata": {
        "id": "gZS0YF2CiLZy",
        "colab_type": "code",
        "colab": {}
      },
      "source": [
        "#Defining dataframe\n",
        "new_df = new_df[['FIRE_YEAR', 'FIRE_SIZE']]\n",
        "def input_fn():\n",
        "  return tf.train.limit_epochs(\n",
        "      tf.convert_to_tensor(new_df, dtype=tf.float32), num_epochs=1)"
      ],
      "execution_count": 0,
      "outputs": []
    },
    {
      "cell_type": "code",
      "metadata": {
        "id": "kfrTlDbAi0TX",
        "colab_type": "code",
        "colab": {
          "base_uri": "https://localhost:8080/",
          "height": 190
        },
        "outputId": "48006bd2-04ae-4582-b482-e15ab283008a"
      },
      "source": [
        "#Defining number of clusters\n",
        "num_clusters = 4\n",
        "kmeans = tf.estimator.experimental.KMeans(\n",
        "    num_clusters=num_clusters, use_mini_batch=False)"
      ],
      "execution_count": 22,
      "outputs": [
        {
          "output_type": "stream",
          "text": [
            "INFO:tensorflow:Using default config.\n",
            "WARNING:tensorflow:Using temporary folder as model directory: /tmp/tmpi9gd9h0z\n",
            "INFO:tensorflow:Using config: {'_model_dir': '/tmp/tmpi9gd9h0z', '_tf_random_seed': None, '_save_summary_steps': 100, '_save_checkpoints_steps': None, '_save_checkpoints_secs': 600, '_session_config': allow_soft_placement: true\n",
            "graph_options {\n",
            "  rewrite_options {\n",
            "    meta_optimizer_iterations: ONE\n",
            "  }\n",
            "}\n",
            ", '_keep_checkpoint_max': 5, '_keep_checkpoint_every_n_hours': 10000, '_log_step_count_steps': 100, '_train_distribute': None, '_device_fn': None, '_protocol': None, '_eval_distribute': None, '_experimental_distribute': None, '_experimental_max_worker_delay_secs': None, '_session_creation_timeout_secs': 7200, '_service': None, '_cluster_spec': <tensorflow.python.training.server_lib.ClusterSpec object at 0x7f635a954e48>, '_task_type': 'worker', '_task_id': 0, '_global_id_in_cluster': 0, '_master': '', '_evaluation_master': '', '_is_chief': True, '_num_ps_replicas': 0, '_num_worker_replicas': 1}\n"
          ],
          "name": "stdout"
        }
      ]
    },
    {
      "cell_type": "code",
      "metadata": {
        "id": "N7FCjaV_i_K0",
        "colab_type": "code",
        "colab": {
          "base_uri": "https://localhost:8080/",
          "height": 1000
        },
        "outputId": "b5513853-0058-495b-87bb-7a3573fe984e"
      },
      "source": [
        "#training the model and printing cluster centers\n",
        "num_iterations = 10\n",
        "previous_centers = None\n",
        "for _ in range(num_iterations):\n",
        "  kmeans.train(input_fn)\n",
        "  cluster_centers = kmeans.cluster_centers()\n",
        "  if previous_centers is not None:\n",
        "    print('delta:', cluster_centers - previous_centers)\n",
        "  previous_centers = cluster_centers\n",
        "  print('score:', kmeans.score(input_fn))\n",
        "print('cluster centers:', cluster_centers)\n"
      ],
      "execution_count": 23,
      "outputs": [
        {
          "output_type": "stream",
          "text": [
            "WARNING:tensorflow:From /usr/local/lib/python3.6/dist-packages/tensorflow_core/python/training/training_util.py:236: Variable.initialized_value (from tensorflow.python.ops.variables) is deprecated and will be removed in a future version.\n",
            "Instructions for updating:\n",
            "Use Variable.read_value. Variables in 2.X are initialized automatically both in eager and graph (inside tf.defun) contexts.\n",
            "WARNING:tensorflow:From <ipython-input-21-5a8e328a5ca1>:4: limit_epochs (from tensorflow.python.training.input) is deprecated and will be removed in a future version.\n",
            "Instructions for updating:\n",
            "Queue-based input pipelines have been replaced by `tf.data`. Use `tf.data.Dataset.from_tensors(tensor).repeat(num_epochs)`.\n",
            "WARNING:tensorflow:From /usr/local/lib/python3.6/dist-packages/tensorflow_core/python/training/input.py:112: RefVariable.count_up_to (from tensorflow.python.ops.variables) is deprecated and will be removed in a future version.\n",
            "Instructions for updating:\n",
            "Prefer Dataset.range instead.\n",
            "WARNING:tensorflow:From /usr/local/lib/python3.6/dist-packages/tensorflow_core/python/ops/variables.py:2522: count_up_to (from tensorflow.python.ops.state_ops) is deprecated and will be removed in a future version.\n",
            "Instructions for updating:\n",
            "Prefer Dataset.range instead.\n",
            "INFO:tensorflow:Calling model_fn.\n",
            "INFO:tensorflow:Done calling model_fn.\n",
            "INFO:tensorflow:Create CheckpointSaverHook.\n",
            "WARNING:tensorflow:From /usr/local/lib/python3.6/dist-packages/tensorflow_core/python/ops/array_ops.py:1475: where (from tensorflow.python.ops.array_ops) is deprecated and will be removed in a future version.\n",
            "Instructions for updating:\n",
            "Use tf.where in 2.0, which has the same broadcast rule as np.where\n",
            "INFO:tensorflow:Graph was finalized.\n",
            "INFO:tensorflow:Running local_init_op.\n",
            "INFO:tensorflow:Done running local_init_op.\n",
            "INFO:tensorflow:Saving checkpoints for 0 into /tmp/tmpi9gd9h0z/model.ckpt.\n",
            "INFO:tensorflow:Saving checkpoints for 1 into /tmp/tmpi9gd9h0z/model.ckpt.\n",
            "WARNING:tensorflow:Training with estimator made no steps. Perhaps input is empty or misspecified.\n",
            "INFO:tensorflow:Loss for final step: None.\n",
            "INFO:tensorflow:Calling model_fn.\n",
            "INFO:tensorflow:Done calling model_fn.\n",
            "INFO:tensorflow:Starting evaluation at 2020-02-11T05:31:20Z\n",
            "INFO:tensorflow:Graph was finalized.\n",
            "INFO:tensorflow:Restoring parameters from /tmp/tmpi9gd9h0z/model.ckpt-1\n",
            "INFO:tensorflow:Running local_init_op.\n",
            "INFO:tensorflow:Done running local_init_op.\n",
            "INFO:tensorflow:Evaluation [1/1]\n",
            "INFO:tensorflow:Finished evaluation at 2020-02-11-05:31:21\n",
            "INFO:tensorflow:Saving dict for global step 1: global_step = 1, loss = 11556592000000.0, score = 11556592000000.0\n",
            "INFO:tensorflow:Saving 'checkpoint_path' summary for global step 1: /tmp/tmpi9gd9h0z/model.ckpt-1\n",
            "score: 11556592000000.0\n",
            "INFO:tensorflow:Calling model_fn.\n",
            "INFO:tensorflow:Done calling model_fn.\n",
            "INFO:tensorflow:Create CheckpointSaverHook.\n",
            "INFO:tensorflow:Graph was finalized.\n",
            "INFO:tensorflow:Restoring parameters from /tmp/tmpi9gd9h0z/model.ckpt-1\n",
            "WARNING:tensorflow:From /usr/local/lib/python3.6/dist-packages/tensorflow_core/python/training/saver.py:1069: get_checkpoint_mtimes (from tensorflow.python.training.checkpoint_management) is deprecated and will be removed in a future version.\n",
            "Instructions for updating:\n",
            "Use standard file utilities to get mtimes.\n",
            "INFO:tensorflow:Running local_init_op.\n",
            "INFO:tensorflow:Done running local_init_op.\n",
            "INFO:tensorflow:Saving checkpoints for 1 into /tmp/tmpi9gd9h0z/model.ckpt.\n",
            "INFO:tensorflow:loss = 11556592000000.0, step = 2\n",
            "INFO:tensorflow:Saving checkpoints for 3 into /tmp/tmpi9gd9h0z/model.ckpt.\n",
            "INFO:tensorflow:Loss for final step: 11556592000000.0.\n",
            "delta: [[ 1.6096802e+01 -1.8308735e-01]\n",
            " [ 3.8214111e+00  6.5531860e+01]\n",
            " [-4.7540283e+00 -6.8973064e+00]\n",
            " [ 1.4423828e+00  5.5237847e+03]]\n",
            "INFO:tensorflow:Calling model_fn.\n",
            "INFO:tensorflow:Done calling model_fn.\n",
            "INFO:tensorflow:Starting evaluation at 2020-02-11T05:31:25Z\n",
            "INFO:tensorflow:Graph was finalized.\n",
            "INFO:tensorflow:Restoring parameters from /tmp/tmpi9gd9h0z/model.ckpt-3\n",
            "INFO:tensorflow:Running local_init_op.\n",
            "INFO:tensorflow:Done running local_init_op.\n",
            "INFO:tensorflow:Evaluation [1/1]\n",
            "INFO:tensorflow:Finished evaluation at 2020-02-11-05:31:26\n",
            "INFO:tensorflow:Saving dict for global step 3: global_step = 3, loss = 10569295000000.0, score = 10569295000000.0\n",
            "INFO:tensorflow:Saving 'checkpoint_path' summary for global step 3: /tmp/tmpi9gd9h0z/model.ckpt-3\n",
            "score: 10569295000000.0\n",
            "INFO:tensorflow:Calling model_fn.\n",
            "INFO:tensorflow:Done calling model_fn.\n",
            "INFO:tensorflow:Create CheckpointSaverHook.\n",
            "INFO:tensorflow:Graph was finalized.\n",
            "INFO:tensorflow:Restoring parameters from /tmp/tmpi9gd9h0z/model.ckpt-3\n",
            "INFO:tensorflow:Running local_init_op.\n",
            "INFO:tensorflow:Done running local_init_op.\n",
            "INFO:tensorflow:Saving checkpoints for 3 into /tmp/tmpi9gd9h0z/model.ckpt.\n",
            "INFO:tensorflow:loss = 10569295000000.0, step = 4\n",
            "INFO:tensorflow:Saving checkpoints for 5 into /tmp/tmpi9gd9h0z/model.ckpt.\n",
            "INFO:tensorflow:Loss for final step: 10569295000000.0.\n",
            "delta: [[-2.0153320e+01 -8.3708304e-01]\n",
            " [ 3.0065918e-01  2.6646637e+02]\n",
            " [ 1.5515137e+01 -2.0194937e+01]\n",
            " [ 5.1062012e-01  1.4982770e+04]]\n",
            "INFO:tensorflow:Calling model_fn.\n",
            "INFO:tensorflow:Done calling model_fn.\n",
            "INFO:tensorflow:Starting evaluation at 2020-02-11T05:31:30Z\n",
            "INFO:tensorflow:Graph was finalized.\n",
            "INFO:tensorflow:Restoring parameters from /tmp/tmpi9gd9h0z/model.ckpt-5\n",
            "INFO:tensorflow:Running local_init_op.\n",
            "INFO:tensorflow:Done running local_init_op.\n",
            "INFO:tensorflow:Evaluation [1/1]\n",
            "INFO:tensorflow:Finished evaluation at 2020-02-11-05:31:30\n",
            "INFO:tensorflow:Saving dict for global step 5: global_step = 5, loss = 8772677000000.0, score = 8772677000000.0\n",
            "INFO:tensorflow:Saving 'checkpoint_path' summary for global step 5: /tmp/tmpi9gd9h0z/model.ckpt-5\n",
            "score: 8772677000000.0\n",
            "INFO:tensorflow:Calling model_fn.\n",
            "INFO:tensorflow:Done calling model_fn.\n",
            "INFO:tensorflow:Create CheckpointSaverHook.\n",
            "INFO:tensorflow:Graph was finalized.\n",
            "INFO:tensorflow:Restoring parameters from /tmp/tmpi9gd9h0z/model.ckpt-5\n",
            "INFO:tensorflow:Running local_init_op.\n",
            "INFO:tensorflow:Done running local_init_op.\n",
            "INFO:tensorflow:Saving checkpoints for 5 into /tmp/tmpi9gd9h0z/model.ckpt.\n",
            "INFO:tensorflow:loss = 8772677000000.0, step = 6\n",
            "INFO:tensorflow:Saving checkpoints for 7 into /tmp/tmpi9gd9h0z/model.ckpt.\n",
            "INFO:tensorflow:Loss for final step: 8772677000000.0.\n",
            "delta: [[ 2.0351562e+01  1.3346784e+00]\n",
            " [ 6.3720703e-02  8.0993927e+02]\n",
            " [-1.0966187e+01  4.6132740e+01]\n",
            " [ 4.0966797e-01  2.3511195e+04]]\n",
            "INFO:tensorflow:Calling model_fn.\n",
            "INFO:tensorflow:Done calling model_fn.\n",
            "INFO:tensorflow:Starting evaluation at 2020-02-11T05:31:34Z\n",
            "INFO:tensorflow:Graph was finalized.\n",
            "INFO:tensorflow:Restoring parameters from /tmp/tmpi9gd9h0z/model.ckpt-7\n",
            "INFO:tensorflow:Running local_init_op.\n",
            "INFO:tensorflow:Done running local_init_op.\n",
            "INFO:tensorflow:Evaluation [1/1]\n",
            "INFO:tensorflow:Finished evaluation at 2020-02-11-05:31:35\n",
            "INFO:tensorflow:Saving dict for global step 7: global_step = 7, loss = 7006575400000.0, score = 7006575400000.0\n",
            "INFO:tensorflow:Saving 'checkpoint_path' summary for global step 7: /tmp/tmpi9gd9h0z/model.ckpt-7\n",
            "score: 7006575400000.0\n",
            "INFO:tensorflow:Calling model_fn.\n",
            "INFO:tensorflow:Done calling model_fn.\n",
            "INFO:tensorflow:Create CheckpointSaverHook.\n",
            "INFO:tensorflow:Graph was finalized.\n",
            "INFO:tensorflow:Restoring parameters from /tmp/tmpi9gd9h0z/model.ckpt-7\n",
            "INFO:tensorflow:Running local_init_op.\n",
            "INFO:tensorflow:Done running local_init_op.\n",
            "INFO:tensorflow:Saving checkpoints for 7 into /tmp/tmpi9gd9h0z/model.ckpt.\n",
            "INFO:tensorflow:loss = 7006575400000.0, step = 8\n",
            "INFO:tensorflow:Saving checkpoints for 9 into /tmp/tmpi9gd9h0z/model.ckpt.\n",
            "WARNING:tensorflow:From /usr/local/lib/python3.6/dist-packages/tensorflow_core/python/training/saver.py:963: remove_checkpoint (from tensorflow.python.training.checkpoint_management) is deprecated and will be removed in a future version.\n",
            "Instructions for updating:\n",
            "Use standard file APIs to delete files with this prefix.\n",
            "INFO:tensorflow:Loss for final step: 7006575400000.0.\n",
            "delta: [[ 5.1025391e-02 -2.5904346e-01]\n",
            " [ 1.8688965e-01  2.1094045e+03]\n",
            " [-4.5227051e+00  3.8096443e+01]\n",
            " [ 3.6499023e-01  2.5756812e+04]]\n",
            "INFO:tensorflow:Calling model_fn.\n",
            "INFO:tensorflow:Done calling model_fn.\n",
            "INFO:tensorflow:Starting evaluation at 2020-02-11T05:31:39Z\n",
            "INFO:tensorflow:Graph was finalized.\n",
            "INFO:tensorflow:Restoring parameters from /tmp/tmpi9gd9h0z/model.ckpt-9\n",
            "INFO:tensorflow:Running local_init_op.\n",
            "INFO:tensorflow:Done running local_init_op.\n",
            "INFO:tensorflow:Evaluation [1/1]\n",
            "INFO:tensorflow:Finished evaluation at 2020-02-11-05:31:39\n",
            "INFO:tensorflow:Saving dict for global step 9: global_step = 9, loss = 5718251000000.0, score = 5718251000000.0\n",
            "INFO:tensorflow:Saving 'checkpoint_path' summary for global step 9: /tmp/tmpi9gd9h0z/model.ckpt-9\n",
            "score: 5718251000000.0\n",
            "INFO:tensorflow:Calling model_fn.\n",
            "INFO:tensorflow:Done calling model_fn.\n",
            "INFO:tensorflow:Create CheckpointSaverHook.\n",
            "INFO:tensorflow:Graph was finalized.\n",
            "INFO:tensorflow:Restoring parameters from /tmp/tmpi9gd9h0z/model.ckpt-9\n",
            "INFO:tensorflow:Running local_init_op.\n",
            "INFO:tensorflow:Done running local_init_op.\n",
            "INFO:tensorflow:Saving checkpoints for 9 into /tmp/tmpi9gd9h0z/model.ckpt.\n",
            "INFO:tensorflow:loss = 5718251000000.0, step = 10\n",
            "INFO:tensorflow:Saving checkpoints for 11 into /tmp/tmpi9gd9h0z/model.ckpt.\n",
            "INFO:tensorflow:Loss for final step: 5718251000000.0.\n",
            "delta: [[6.4929199e-01 1.0193629e+00]\n",
            " [2.7282715e-01 3.7541438e+03]\n",
            " [2.2705078e-01 1.1887986e+02]\n",
            " [1.5173340e-01 2.7801094e+04]]\n",
            "INFO:tensorflow:Calling model_fn.\n",
            "INFO:tensorflow:Done calling model_fn.\n",
            "INFO:tensorflow:Starting evaluation at 2020-02-11T05:31:44Z\n",
            "INFO:tensorflow:Graph was finalized.\n",
            "INFO:tensorflow:Restoring parameters from /tmp/tmpi9gd9h0z/model.ckpt-11\n",
            "INFO:tensorflow:Running local_init_op.\n",
            "INFO:tensorflow:Done running local_init_op.\n",
            "INFO:tensorflow:Evaluation [1/1]\n",
            "INFO:tensorflow:Finished evaluation at 2020-02-11-05:31:44\n",
            "INFO:tensorflow:Saving dict for global step 11: global_step = 11, loss = 4722948300000.0, score = 4722948300000.0\n",
            "INFO:tensorflow:Saving 'checkpoint_path' summary for global step 11: /tmp/tmpi9gd9h0z/model.ckpt-11\n",
            "score: 4722948300000.0\n",
            "INFO:tensorflow:Calling model_fn.\n",
            "INFO:tensorflow:Done calling model_fn.\n",
            "INFO:tensorflow:Create CheckpointSaverHook.\n",
            "INFO:tensorflow:Graph was finalized.\n",
            "INFO:tensorflow:Restoring parameters from /tmp/tmpi9gd9h0z/model.ckpt-11\n",
            "INFO:tensorflow:Running local_init_op.\n",
            "INFO:tensorflow:Done running local_init_op.\n",
            "INFO:tensorflow:Saving checkpoints for 11 into /tmp/tmpi9gd9h0z/model.ckpt.\n",
            "INFO:tensorflow:loss = 4722948300000.0, step = 12\n",
            "INFO:tensorflow:Saving checkpoints for 13 into /tmp/tmpi9gd9h0z/model.ckpt.\n",
            "INFO:tensorflow:Loss for final step: 4722948300000.0.\n",
            "delta: [[ 4.4580078e-01  1.7524340e+00]\n",
            " [ 2.7319336e-01  5.4133491e+03]\n",
            " [-3.7414551e-01  3.3046515e+02]\n",
            " [ 2.0703125e-01  2.7681547e+04]]\n",
            "INFO:tensorflow:Calling model_fn.\n",
            "INFO:tensorflow:Done calling model_fn.\n",
            "INFO:tensorflow:Starting evaluation at 2020-02-11T05:31:48Z\n",
            "INFO:tensorflow:Graph was finalized.\n",
            "INFO:tensorflow:Restoring parameters from /tmp/tmpi9gd9h0z/model.ckpt-13\n",
            "INFO:tensorflow:Running local_init_op.\n",
            "INFO:tensorflow:Done running local_init_op.\n",
            "INFO:tensorflow:Evaluation [1/1]\n",
            "INFO:tensorflow:Finished evaluation at 2020-02-11-05:31:48\n",
            "INFO:tensorflow:Saving dict for global step 13: global_step = 13, loss = 3926286100000.0, score = 3926286100000.0\n",
            "INFO:tensorflow:Saving 'checkpoint_path' summary for global step 13: /tmp/tmpi9gd9h0z/model.ckpt-13\n",
            "score: 3926286100000.0\n",
            "INFO:tensorflow:Calling model_fn.\n",
            "INFO:tensorflow:Done calling model_fn.\n",
            "INFO:tensorflow:Create CheckpointSaverHook.\n",
            "INFO:tensorflow:Graph was finalized.\n",
            "INFO:tensorflow:Restoring parameters from /tmp/tmpi9gd9h0z/model.ckpt-13\n",
            "INFO:tensorflow:Running local_init_op.\n",
            "INFO:tensorflow:Done running local_init_op.\n",
            "INFO:tensorflow:Saving checkpoints for 13 into /tmp/tmpi9gd9h0z/model.ckpt.\n",
            "INFO:tensorflow:loss = 3926286100000.0, step = 14\n",
            "INFO:tensorflow:Saving checkpoints for 15 into /tmp/tmpi9gd9h0z/model.ckpt.\n",
            "INFO:tensorflow:Loss for final step: 3926286100000.0.\n",
            "delta: [[1.8188477e-01 1.9646835e+00]\n",
            " [1.7102051e-01 7.1023486e+03]\n",
            " [1.3940430e-01 6.5344299e+02]\n",
            " [6.8237305e-02 3.0825844e+04]]\n",
            "INFO:tensorflow:Calling model_fn.\n",
            "INFO:tensorflow:Done calling model_fn.\n",
            "INFO:tensorflow:Starting evaluation at 2020-02-11T05:31:52Z\n",
            "INFO:tensorflow:Graph was finalized.\n",
            "INFO:tensorflow:Restoring parameters from /tmp/tmpi9gd9h0z/model.ckpt-15\n",
            "INFO:tensorflow:Running local_init_op.\n",
            "INFO:tensorflow:Done running local_init_op.\n",
            "INFO:tensorflow:Evaluation [1/1]\n",
            "INFO:tensorflow:Finished evaluation at 2020-02-11-05:31:53\n",
            "INFO:tensorflow:Saving dict for global step 15: global_step = 15, loss = 3215038600000.0, score = 3215038600000.0\n",
            "INFO:tensorflow:Saving 'checkpoint_path' summary for global step 15: /tmp/tmpi9gd9h0z/model.ckpt-15\n",
            "score: 3215038600000.0\n",
            "INFO:tensorflow:Calling model_fn.\n",
            "INFO:tensorflow:Done calling model_fn.\n",
            "INFO:tensorflow:Create CheckpointSaverHook.\n",
            "INFO:tensorflow:Graph was finalized.\n",
            "INFO:tensorflow:Restoring parameters from /tmp/tmpi9gd9h0z/model.ckpt-15\n",
            "INFO:tensorflow:Running local_init_op.\n",
            "INFO:tensorflow:Done running local_init_op.\n",
            "INFO:tensorflow:Saving checkpoints for 15 into /tmp/tmpi9gd9h0z/model.ckpt.\n",
            "INFO:tensorflow:loss = 3215038600000.0, step = 16\n",
            "INFO:tensorflow:Saving checkpoints for 17 into /tmp/tmpi9gd9h0z/model.ckpt.\n",
            "INFO:tensorflow:Loss for final step: 3215038600000.0.\n",
            "delta: [[ 8.7646484e-02  2.2181497e+00]\n",
            " [ 1.4575195e-01  7.6432656e+03]\n",
            " [-9.2773438e-03  1.0810663e+03]\n",
            " [ 2.4536133e-01  2.5620438e+04]]\n",
            "INFO:tensorflow:Calling model_fn.\n",
            "INFO:tensorflow:Done calling model_fn.\n",
            "INFO:tensorflow:Starting evaluation at 2020-02-11T05:31:57Z\n",
            "INFO:tensorflow:Graph was finalized.\n",
            "INFO:tensorflow:Restoring parameters from /tmp/tmpi9gd9h0z/model.ckpt-17\n",
            "INFO:tensorflow:Running local_init_op.\n",
            "INFO:tensorflow:Done running local_init_op.\n",
            "INFO:tensorflow:Evaluation [1/1]\n",
            "INFO:tensorflow:Finished evaluation at 2020-02-11-05:31:58\n",
            "INFO:tensorflow:Saving dict for global step 17: global_step = 17, loss = 2736402700000.0, score = 2736402700000.0\n",
            "INFO:tensorflow:Saving 'checkpoint_path' summary for global step 17: /tmp/tmpi9gd9h0z/model.ckpt-17\n",
            "score: 2736402700000.0\n",
            "INFO:tensorflow:Calling model_fn.\n",
            "INFO:tensorflow:Done calling model_fn.\n",
            "INFO:tensorflow:Create CheckpointSaverHook.\n",
            "INFO:tensorflow:Graph was finalized.\n",
            "INFO:tensorflow:Restoring parameters from /tmp/tmpi9gd9h0z/model.ckpt-17\n",
            "INFO:tensorflow:Running local_init_op.\n",
            "INFO:tensorflow:Done running local_init_op.\n",
            "INFO:tensorflow:Saving checkpoints for 17 into /tmp/tmpi9gd9h0z/model.ckpt.\n",
            "INFO:tensorflow:loss = 2736402700000.0, step = 18\n",
            "INFO:tensorflow:Saving checkpoints for 19 into /tmp/tmpi9gd9h0z/model.ckpt.\n",
            "INFO:tensorflow:Loss for final step: 2736402700000.0.\n",
            "delta: [[ 3.9916992e-02  2.4346189e+00]\n",
            " [ 2.7343750e-01  7.9586758e+03]\n",
            " [ 2.1118164e-01  1.5841968e+03]\n",
            " [-2.6855469e-01  2.2425672e+04]]\n",
            "INFO:tensorflow:Calling model_fn.\n",
            "INFO:tensorflow:Done calling model_fn.\n",
            "INFO:tensorflow:Starting evaluation at 2020-02-11T05:32:02Z\n",
            "INFO:tensorflow:Graph was finalized.\n",
            "INFO:tensorflow:Restoring parameters from /tmp/tmpi9gd9h0z/model.ckpt-19\n",
            "INFO:tensorflow:Running local_init_op.\n",
            "INFO:tensorflow:Done running local_init_op.\n",
            "INFO:tensorflow:Evaluation [1/1]\n",
            "INFO:tensorflow:Finished evaluation at 2020-02-11-05:32:03\n",
            "INFO:tensorflow:Saving dict for global step 19: global_step = 19, loss = 2407126500000.0, score = 2407126500000.0\n",
            "INFO:tensorflow:Saving 'checkpoint_path' summary for global step 19: /tmp/tmpi9gd9h0z/model.ckpt-19\n",
            "score: 2407126500000.0\n",
            "cluster centers: [[2.0317506e+03 1.1444714e+01]\n",
            " [2.0055089e+03 3.5175125e+04]\n",
            " [2.0044664e+03 3.8581880e+03]\n",
            " [2.0061315e+03 2.0491116e+05]]\n"
          ],
          "name": "stdout"
        }
      ]
    },
    {
      "cell_type": "code",
      "metadata": {
        "id": "BLUPXRFGjr9y",
        "colab_type": "code",
        "colab": {}
      },
      "source": [
        "#Clustering using Agglomerative clustering in scikit learn\n",
        "from sklearn.cluster import AgglomerativeClustering\n",
        "import scipy.cluster.hierarchy as sch"
      ],
      "execution_count": 0,
      "outputs": []
    },
    {
      "cell_type": "code",
      "metadata": {
        "id": "wqbzRYM4tpXu",
        "colab_type": "code",
        "colab": {}
      },
      "source": [
        "X = new_df[['FIRE_YEAR', 'FIRE_SIZE']]"
      ],
      "execution_count": 0,
      "outputs": []
    },
    {
      "cell_type": "code",
      "metadata": {
        "id": "W_Zgg_bntjHE",
        "colab_type": "code",
        "colab": {}
      },
      "source": [
        "dendrogram = sch.dendrogram(sch.linkage(X, method='single'))"
      ],
      "execution_count": 0,
      "outputs": []
    },
    {
      "cell_type": "code",
      "metadata": {
        "id": "nKyyzBk2trRW",
        "colab_type": "code",
        "colab": {}
      },
      "source": [
        "#Applying Single linkage agglomerative clustering\n",
        "model = AgglomerativeClustering(n_clusters=4, affinity='euclidean', linkage='single')\n",
        "model.fit(X)\n",
        "labels = model.labels_"
      ],
      "execution_count": 0,
      "outputs": []
    },
    {
      "cell_type": "markdown",
      "metadata": {
        "id": "5qwR7YZSvMxA",
        "colab_type": "text"
      },
      "source": [
        "**System is crashing everytime I try to run Agglomerative Clustering in Google colab**"
      ]
    }
  ]
}