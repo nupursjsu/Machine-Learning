{
  "nbformat": 4,
  "nbformat_minor": 0,
  "metadata": {
    "colab": {
      "name": "GMM_Clustering.ipynb",
      "provenance": [],
      "collapsed_sections": [],
      "authorship_tag": "ABX9TyM2dpsTy4bop18EjHL0K5KA",
      "include_colab_link": true
    },
    "kernelspec": {
      "name": "python3",
      "display_name": "Python 3"
    },
    "accelerator": "GPU"
  },
  "cells": [
    {
      "cell_type": "markdown",
      "metadata": {
        "id": "view-in-github",
        "colab_type": "text"
      },
      "source": [
        "<a href=\"https://colab.research.google.com/github/nupursjsu/Machine-Learning/blob/master/GMM_Clustering.ipynb\" target=\"_parent\"><img src=\"https://colab.research.google.com/assets/colab-badge.svg\" alt=\"Open In Colab\"/></a>"
      ]
    },
    {
      "cell_type": "markdown",
      "metadata": {
        "id": "evuhcrtg9KbV",
        "colab_type": "text"
      },
      "source": [
        "# Wildfire Predictions"
      ]
    },
    {
      "cell_type": "markdown",
      "metadata": {
        "id": "MCk_N2cl9Wlk",
        "colab_type": "text"
      },
      "source": [
        "Dataset:- We have the historical dataset collected by american governement on all the wildfires in history of usa from 1900 to 2015.\n",
        "\n",
        "Hypothesis:- Predicting Wildfire Damage Area based on several different features including\n",
        "FIRE_YEAR, STAT_CAUSE_DESCR, LATITUDE, LONGITUDE, STATE, DISCOVERY_DATE"
      ]
    },
    {
      "cell_type": "markdown",
      "metadata": {
        "id": "p8HlYgcFIXEZ",
        "colab_type": "text"
      },
      "source": [
        "## Clustering with GMM"
      ]
    },
    {
      "cell_type": "code",
      "metadata": {
        "id": "vaBAbZR-IUi5",
        "colab_type": "code",
        "colab": {}
      },
      "source": [
        "# importing necessary libraries\n",
        "import pandas as pd\n",
        "from sklearn.mixture import GaussianMixture\n",
        "import seaborn as sns\n",
        "from matplotlib import pyplot as plt\n",
        "%matplotlib inline"
      ],
      "execution_count": 0,
      "outputs": []
    },
    {
      "cell_type": "code",
      "metadata": {
        "id": "TnMQamllI9UX",
        "colab_type": "code",
        "colab": {}
      },
      "source": [
        "# Code to read csv file into Colaboratory:\n",
        "!pip install -U -q PyDrive\n",
        "from pydrive.auth import GoogleAuth\n",
        "from pydrive.drive import GoogleDrive\n",
        "from google.colab import auth\n",
        "from oauth2client.client import GoogleCredentials\n",
        "# Authenticate and create the PyDrive client.\n",
        "auth.authenticate_user()\n",
        "gauth = GoogleAuth()\n",
        "gauth.credentials = GoogleCredentials.get_application_default()\n",
        "drive = GoogleDrive(gauth)"
      ],
      "execution_count": 0,
      "outputs": []
    },
    {
      "cell_type": "code",
      "metadata": {
        "id": "STid8_u5JJtY",
        "colab_type": "code",
        "outputId": "4bc1fa07-1cd9-4f59-d47d-3c3cef213e75",
        "colab": {
          "base_uri": "https://localhost:8080/",
          "height": 34
        }
      },
      "source": [
        "link = 'https://drive.google.com/open?id=1ApRYxyMqnFKH8XW1GbQ-KZNJdbdeEdV9'\n",
        "fluff, id = link.split('=')\n",
        "print (id) # Verify that you have everything after '='"
      ],
      "execution_count": 4,
      "outputs": [
        {
          "output_type": "stream",
          "text": [
            "1ApRYxyMqnFKH8XW1GbQ-KZNJdbdeEdV9\n"
          ],
          "name": "stdout"
        }
      ]
    },
    {
      "cell_type": "code",
      "metadata": {
        "id": "ciAXeepwJNTy",
        "colab_type": "code",
        "colab": {}
      },
      "source": [
        "downloaded = drive.CreateFile({'id':id}) \n",
        "downloaded.GetContentFile('Fire.csv')"
      ],
      "execution_count": 0,
      "outputs": []
    },
    {
      "cell_type": "code",
      "metadata": {
        "id": "TC3_MFgwJVAf",
        "colab_type": "code",
        "outputId": "4ac4df90-2176-479f-d41f-fbce4caa77af",
        "colab": {
          "base_uri": "https://localhost:8080/",
          "height": 71
        }
      },
      "source": [
        "#Loading dataset into pandas dataframe\n",
        "df = pd.read_csv('Fire.csv')"
      ],
      "execution_count": 6,
      "outputs": [
        {
          "output_type": "stream",
          "text": [
            "/usr/local/lib/python3.6/dist-packages/IPython/core/interactiveshell.py:2718: DtypeWarning: Columns (9,11,12,13,14,15,16,17,18,19,36,38) have mixed types. Specify dtype option on import or set low_memory=False.\n",
            "  interactivity=interactivity, compiler=compiler, result=result)\n"
          ],
          "name": "stderr"
        }
      ]
    },
    {
      "cell_type": "code",
      "metadata": {
        "id": "uwTormqgJcOj",
        "colab_type": "code",
        "outputId": "8b4b5407-46d6-4d4a-f0fb-37cdf3896bc6",
        "colab": {
          "base_uri": "https://localhost:8080/",
          "height": 326
        }
      },
      "source": [
        "#Displaying first few records\n",
        "df.head()"
      ],
      "execution_count": 38,
      "outputs": [
        {
          "output_type": "execute_result",
          "data": {
            "text/html": [
              "<div>\n",
              "<style scoped>\n",
              "    .dataframe tbody tr th:only-of-type {\n",
              "        vertical-align: middle;\n",
              "    }\n",
              "\n",
              "    .dataframe tbody tr th {\n",
              "        vertical-align: top;\n",
              "    }\n",
              "\n",
              "    .dataframe thead th {\n",
              "        text-align: right;\n",
              "    }\n",
              "</style>\n",
              "<table border=\"1\" class=\"dataframe\">\n",
              "  <thead>\n",
              "    <tr style=\"text-align: right;\">\n",
              "      <th></th>\n",
              "      <th>Unnamed: 0</th>\n",
              "      <th>OBJECTID</th>\n",
              "      <th>FOD_ID</th>\n",
              "      <th>FPA_ID</th>\n",
              "      <th>SOURCE_SYSTEM_TYPE</th>\n",
              "      <th>SOURCE_SYSTEM</th>\n",
              "      <th>NWCG_REPORTING_AGENCY</th>\n",
              "      <th>NWCG_REPORTING_UNIT_ID</th>\n",
              "      <th>NWCG_REPORTING_UNIT_NAME</th>\n",
              "      <th>SOURCE_REPORTING_UNIT</th>\n",
              "      <th>SOURCE_REPORTING_UNIT_NAME</th>\n",
              "      <th>LOCAL_FIRE_REPORT_ID</th>\n",
              "      <th>LOCAL_INCIDENT_ID</th>\n",
              "      <th>FIRE_CODE</th>\n",
              "      <th>FIRE_NAME</th>\n",
              "      <th>ICS_209_INCIDENT_NUMBER</th>\n",
              "      <th>ICS_209_NAME</th>\n",
              "      <th>MTBS_ID</th>\n",
              "      <th>MTBS_FIRE_NAME</th>\n",
              "      <th>COMPLEX_NAME</th>\n",
              "      <th>FIRE_YEAR</th>\n",
              "      <th>DISCOVERY_DATE</th>\n",
              "      <th>DISCOVERY_DOY</th>\n",
              "      <th>DISCOVERY_TIME</th>\n",
              "      <th>STAT_CAUSE_CODE</th>\n",
              "      <th>STAT_CAUSE_DESCR</th>\n",
              "      <th>CONT_DATE</th>\n",
              "      <th>CONT_DOY</th>\n",
              "      <th>CONT_TIME</th>\n",
              "      <th>FIRE_SIZE</th>\n",
              "      <th>FIRE_SIZE_CLASS</th>\n",
              "      <th>LATITUDE</th>\n",
              "      <th>LONGITUDE</th>\n",
              "      <th>OWNER_CODE</th>\n",
              "      <th>OWNER_DESCR</th>\n",
              "      <th>STATE</th>\n",
              "      <th>COUNTY</th>\n",
              "      <th>FIPS_CODE</th>\n",
              "      <th>FIPS_NAME</th>\n",
              "      <th>Shape</th>\n",
              "    </tr>\n",
              "  </thead>\n",
              "  <tbody>\n",
              "    <tr>\n",
              "      <th>0</th>\n",
              "      <td>0</td>\n",
              "      <td>1</td>\n",
              "      <td>1</td>\n",
              "      <td>FS-1418826</td>\n",
              "      <td>FED</td>\n",
              "      <td>FS-FIRESTAT</td>\n",
              "      <td>FS</td>\n",
              "      <td>USCAPNF</td>\n",
              "      <td>Plumas National Forest</td>\n",
              "      <td>511</td>\n",
              "      <td>Plumas National Forest</td>\n",
              "      <td>1</td>\n",
              "      <td>PNF-47</td>\n",
              "      <td>BJ8K</td>\n",
              "      <td>FOUNTAIN</td>\n",
              "      <td>NaN</td>\n",
              "      <td>NaN</td>\n",
              "      <td>NaN</td>\n",
              "      <td>NaN</td>\n",
              "      <td>NaN</td>\n",
              "      <td>2005</td>\n",
              "      <td>2453403.5</td>\n",
              "      <td>33</td>\n",
              "      <td>1300.0</td>\n",
              "      <td>9.0</td>\n",
              "      <td>Miscellaneous</td>\n",
              "      <td>2453403.5</td>\n",
              "      <td>33.0</td>\n",
              "      <td>1730.0</td>\n",
              "      <td>0.10</td>\n",
              "      <td>A</td>\n",
              "      <td>40.036944</td>\n",
              "      <td>-121.005833</td>\n",
              "      <td>5.0</td>\n",
              "      <td>USFS</td>\n",
              "      <td>CA</td>\n",
              "      <td>63</td>\n",
              "      <td>63.0</td>\n",
              "      <td>Plumas</td>\n",
              "      <td>b'\\x00\\x01\\xad\\x10\\x00\\x00\\xe8d\\xc2\\x92_@^\\xc0...</td>\n",
              "    </tr>\n",
              "    <tr>\n",
              "      <th>1</th>\n",
              "      <td>1</td>\n",
              "      <td>2</td>\n",
              "      <td>2</td>\n",
              "      <td>FS-1418827</td>\n",
              "      <td>FED</td>\n",
              "      <td>FS-FIRESTAT</td>\n",
              "      <td>FS</td>\n",
              "      <td>USCAENF</td>\n",
              "      <td>Eldorado National Forest</td>\n",
              "      <td>503</td>\n",
              "      <td>Eldorado National Forest</td>\n",
              "      <td>13</td>\n",
              "      <td>13</td>\n",
              "      <td>AAC0</td>\n",
              "      <td>PIGEON</td>\n",
              "      <td>NaN</td>\n",
              "      <td>NaN</td>\n",
              "      <td>NaN</td>\n",
              "      <td>NaN</td>\n",
              "      <td>NaN</td>\n",
              "      <td>2004</td>\n",
              "      <td>2453137.5</td>\n",
              "      <td>133</td>\n",
              "      <td>845.0</td>\n",
              "      <td>1.0</td>\n",
              "      <td>Lightning</td>\n",
              "      <td>2453137.5</td>\n",
              "      <td>133.0</td>\n",
              "      <td>1530.0</td>\n",
              "      <td>0.25</td>\n",
              "      <td>A</td>\n",
              "      <td>38.933056</td>\n",
              "      <td>-120.404444</td>\n",
              "      <td>5.0</td>\n",
              "      <td>USFS</td>\n",
              "      <td>CA</td>\n",
              "      <td>61</td>\n",
              "      <td>61.0</td>\n",
              "      <td>Placer</td>\n",
              "      <td>b'\\x00\\x01\\xad\\x10\\x00\\x00T\\xb6\\xeej\\xe2\\x19^\\...</td>\n",
              "    </tr>\n",
              "    <tr>\n",
              "      <th>2</th>\n",
              "      <td>2</td>\n",
              "      <td>3</td>\n",
              "      <td>3</td>\n",
              "      <td>FS-1418835</td>\n",
              "      <td>FED</td>\n",
              "      <td>FS-FIRESTAT</td>\n",
              "      <td>FS</td>\n",
              "      <td>USCAENF</td>\n",
              "      <td>Eldorado National Forest</td>\n",
              "      <td>503</td>\n",
              "      <td>Eldorado National Forest</td>\n",
              "      <td>27</td>\n",
              "      <td>021</td>\n",
              "      <td>A32W</td>\n",
              "      <td>SLACK</td>\n",
              "      <td>NaN</td>\n",
              "      <td>NaN</td>\n",
              "      <td>NaN</td>\n",
              "      <td>NaN</td>\n",
              "      <td>NaN</td>\n",
              "      <td>2004</td>\n",
              "      <td>2453156.5</td>\n",
              "      <td>152</td>\n",
              "      <td>1921.0</td>\n",
              "      <td>5.0</td>\n",
              "      <td>Debris Burning</td>\n",
              "      <td>2453156.5</td>\n",
              "      <td>152.0</td>\n",
              "      <td>2024.0</td>\n",
              "      <td>0.10</td>\n",
              "      <td>A</td>\n",
              "      <td>38.984167</td>\n",
              "      <td>-120.735556</td>\n",
              "      <td>13.0</td>\n",
              "      <td>STATE OR PRIVATE</td>\n",
              "      <td>CA</td>\n",
              "      <td>17</td>\n",
              "      <td>17.0</td>\n",
              "      <td>El Dorado</td>\n",
              "      <td>b'\\x00\\x01\\xad\\x10\\x00\\x00\\xd0\\xa5\\xa0W\\x13/^\\...</td>\n",
              "    </tr>\n",
              "    <tr>\n",
              "      <th>3</th>\n",
              "      <td>3</td>\n",
              "      <td>4</td>\n",
              "      <td>4</td>\n",
              "      <td>FS-1418845</td>\n",
              "      <td>FED</td>\n",
              "      <td>FS-FIRESTAT</td>\n",
              "      <td>FS</td>\n",
              "      <td>USCAENF</td>\n",
              "      <td>Eldorado National Forest</td>\n",
              "      <td>503</td>\n",
              "      <td>Eldorado National Forest</td>\n",
              "      <td>43</td>\n",
              "      <td>6</td>\n",
              "      <td>NaN</td>\n",
              "      <td>DEER</td>\n",
              "      <td>NaN</td>\n",
              "      <td>NaN</td>\n",
              "      <td>NaN</td>\n",
              "      <td>NaN</td>\n",
              "      <td>NaN</td>\n",
              "      <td>2004</td>\n",
              "      <td>2453184.5</td>\n",
              "      <td>180</td>\n",
              "      <td>1600.0</td>\n",
              "      <td>1.0</td>\n",
              "      <td>Lightning</td>\n",
              "      <td>2453189.5</td>\n",
              "      <td>185.0</td>\n",
              "      <td>1400.0</td>\n",
              "      <td>0.10</td>\n",
              "      <td>A</td>\n",
              "      <td>38.559167</td>\n",
              "      <td>-119.913333</td>\n",
              "      <td>5.0</td>\n",
              "      <td>USFS</td>\n",
              "      <td>CA</td>\n",
              "      <td>3</td>\n",
              "      <td>3.0</td>\n",
              "      <td>Alpine</td>\n",
              "      <td>b'\\x00\\x01\\xad\\x10\\x00\\x00\\x94\\xac\\xa3\\rt\\xfa]...</td>\n",
              "    </tr>\n",
              "    <tr>\n",
              "      <th>4</th>\n",
              "      <td>4</td>\n",
              "      <td>5</td>\n",
              "      <td>5</td>\n",
              "      <td>FS-1418847</td>\n",
              "      <td>FED</td>\n",
              "      <td>FS-FIRESTAT</td>\n",
              "      <td>FS</td>\n",
              "      <td>USCAENF</td>\n",
              "      <td>Eldorado National Forest</td>\n",
              "      <td>503</td>\n",
              "      <td>Eldorado National Forest</td>\n",
              "      <td>44</td>\n",
              "      <td>7</td>\n",
              "      <td>NaN</td>\n",
              "      <td>STEVENOT</td>\n",
              "      <td>NaN</td>\n",
              "      <td>NaN</td>\n",
              "      <td>NaN</td>\n",
              "      <td>NaN</td>\n",
              "      <td>NaN</td>\n",
              "      <td>2004</td>\n",
              "      <td>2453184.5</td>\n",
              "      <td>180</td>\n",
              "      <td>1600.0</td>\n",
              "      <td>1.0</td>\n",
              "      <td>Lightning</td>\n",
              "      <td>2453189.5</td>\n",
              "      <td>185.0</td>\n",
              "      <td>1200.0</td>\n",
              "      <td>0.10</td>\n",
              "      <td>A</td>\n",
              "      <td>38.559167</td>\n",
              "      <td>-119.933056</td>\n",
              "      <td>5.0</td>\n",
              "      <td>USFS</td>\n",
              "      <td>CA</td>\n",
              "      <td>3</td>\n",
              "      <td>3.0</td>\n",
              "      <td>Alpine</td>\n",
              "      <td>b'\\x00\\x01\\xad\\x10\\x00\\x00@\\xe3\\xaa.\\xb7\\xfb]\\...</td>\n",
              "    </tr>\n",
              "  </tbody>\n",
              "</table>\n",
              "</div>"
            ],
            "text/plain": [
              "   Unnamed: 0  ...                                              Shape\n",
              "0           0  ...  b'\\x00\\x01\\xad\\x10\\x00\\x00\\xe8d\\xc2\\x92_@^\\xc0...\n",
              "1           1  ...  b'\\x00\\x01\\xad\\x10\\x00\\x00T\\xb6\\xeej\\xe2\\x19^\\...\n",
              "2           2  ...  b'\\x00\\x01\\xad\\x10\\x00\\x00\\xd0\\xa5\\xa0W\\x13/^\\...\n",
              "3           3  ...  b'\\x00\\x01\\xad\\x10\\x00\\x00\\x94\\xac\\xa3\\rt\\xfa]...\n",
              "4           4  ...  b'\\x00\\x01\\xad\\x10\\x00\\x00@\\xe3\\xaa.\\xb7\\xfb]\\...\n",
              "\n",
              "[5 rows x 40 columns]"
            ]
          },
          "metadata": {
            "tags": []
          },
          "execution_count": 38
        }
      ]
    },
    {
      "cell_type": "code",
      "metadata": {
        "id": "TDp11AfrJePH",
        "colab_type": "code",
        "colab": {}
      },
      "source": [
        "#Creating a new data frame with required columns\n",
        "new_df = df[['FIRE_YEAR','STAT_CAUSE_DESCR','LATITUDE','LONGITUDE','STATE','DISCOVERY_DATE','FIRE_SIZE']].copy()"
      ],
      "execution_count": 0,
      "outputs": []
    },
    {
      "cell_type": "code",
      "metadata": {
        "id": "NgOCdqrDLQIp",
        "colab_type": "code",
        "outputId": "ab6ece08-519b-461c-baef-adb4184d70cc",
        "colab": {
          "base_uri": "https://localhost:8080/",
          "height": 204
        }
      },
      "source": [
        "#Displaying top 5 records\n",
        "new_df.head()"
      ],
      "execution_count": 9,
      "outputs": [
        {
          "output_type": "execute_result",
          "data": {
            "text/html": [
              "<div>\n",
              "<style scoped>\n",
              "    .dataframe tbody tr th:only-of-type {\n",
              "        vertical-align: middle;\n",
              "    }\n",
              "\n",
              "    .dataframe tbody tr th {\n",
              "        vertical-align: top;\n",
              "    }\n",
              "\n",
              "    .dataframe thead th {\n",
              "        text-align: right;\n",
              "    }\n",
              "</style>\n",
              "<table border=\"1\" class=\"dataframe\">\n",
              "  <thead>\n",
              "    <tr style=\"text-align: right;\">\n",
              "      <th></th>\n",
              "      <th>FIRE_YEAR</th>\n",
              "      <th>STAT_CAUSE_DESCR</th>\n",
              "      <th>LATITUDE</th>\n",
              "      <th>LONGITUDE</th>\n",
              "      <th>STATE</th>\n",
              "      <th>DISCOVERY_DATE</th>\n",
              "      <th>FIRE_SIZE</th>\n",
              "    </tr>\n",
              "  </thead>\n",
              "  <tbody>\n",
              "    <tr>\n",
              "      <th>0</th>\n",
              "      <td>2005</td>\n",
              "      <td>Miscellaneous</td>\n",
              "      <td>40.036944</td>\n",
              "      <td>-121.005833</td>\n",
              "      <td>CA</td>\n",
              "      <td>2453403.5</td>\n",
              "      <td>0.10</td>\n",
              "    </tr>\n",
              "    <tr>\n",
              "      <th>1</th>\n",
              "      <td>2004</td>\n",
              "      <td>Lightning</td>\n",
              "      <td>38.933056</td>\n",
              "      <td>-120.404444</td>\n",
              "      <td>CA</td>\n",
              "      <td>2453137.5</td>\n",
              "      <td>0.25</td>\n",
              "    </tr>\n",
              "    <tr>\n",
              "      <th>2</th>\n",
              "      <td>2004</td>\n",
              "      <td>Debris Burning</td>\n",
              "      <td>38.984167</td>\n",
              "      <td>-120.735556</td>\n",
              "      <td>CA</td>\n",
              "      <td>2453156.5</td>\n",
              "      <td>0.10</td>\n",
              "    </tr>\n",
              "    <tr>\n",
              "      <th>3</th>\n",
              "      <td>2004</td>\n",
              "      <td>Lightning</td>\n",
              "      <td>38.559167</td>\n",
              "      <td>-119.913333</td>\n",
              "      <td>CA</td>\n",
              "      <td>2453184.5</td>\n",
              "      <td>0.10</td>\n",
              "    </tr>\n",
              "    <tr>\n",
              "      <th>4</th>\n",
              "      <td>2004</td>\n",
              "      <td>Lightning</td>\n",
              "      <td>38.559167</td>\n",
              "      <td>-119.933056</td>\n",
              "      <td>CA</td>\n",
              "      <td>2453184.5</td>\n",
              "      <td>0.10</td>\n",
              "    </tr>\n",
              "  </tbody>\n",
              "</table>\n",
              "</div>"
            ],
            "text/plain": [
              "   FIRE_YEAR STAT_CAUSE_DESCR   LATITUDE  ...  STATE DISCOVERY_DATE  FIRE_SIZE\n",
              "0       2005    Miscellaneous  40.036944  ...     CA      2453403.5       0.10\n",
              "1       2004        Lightning  38.933056  ...     CA      2453137.5       0.25\n",
              "2       2004   Debris Burning  38.984167  ...     CA      2453156.5       0.10\n",
              "3       2004        Lightning  38.559167  ...     CA      2453184.5       0.10\n",
              "4       2004        Lightning  38.559167  ...     CA      2453184.5       0.10\n",
              "\n",
              "[5 rows x 7 columns]"
            ]
          },
          "metadata": {
            "tags": []
          },
          "execution_count": 9
        }
      ]
    },
    {
      "cell_type": "code",
      "metadata": {
        "id": "BBJRjnpTLVxd",
        "colab_type": "code",
        "outputId": "3e4e98a4-f3a8-4407-87d3-bfa91f1cbf73",
        "colab": {
          "base_uri": "https://localhost:8080/",
          "height": 204
        }
      },
      "source": [
        "#Converting the DISCOVERY_DATE field's Julian Date format in Gregorian dates\n",
        "new_df['DATE'] = pd.to_datetime(new_df['DISCOVERY_DATE'] - pd.Timestamp(0).to_julian_date(), unit='D')\n",
        "new_df.head() #check the data"
      ],
      "execution_count": 10,
      "outputs": [
        {
          "output_type": "execute_result",
          "data": {
            "text/html": [
              "<div>\n",
              "<style scoped>\n",
              "    .dataframe tbody tr th:only-of-type {\n",
              "        vertical-align: middle;\n",
              "    }\n",
              "\n",
              "    .dataframe tbody tr th {\n",
              "        vertical-align: top;\n",
              "    }\n",
              "\n",
              "    .dataframe thead th {\n",
              "        text-align: right;\n",
              "    }\n",
              "</style>\n",
              "<table border=\"1\" class=\"dataframe\">\n",
              "  <thead>\n",
              "    <tr style=\"text-align: right;\">\n",
              "      <th></th>\n",
              "      <th>FIRE_YEAR</th>\n",
              "      <th>STAT_CAUSE_DESCR</th>\n",
              "      <th>LATITUDE</th>\n",
              "      <th>LONGITUDE</th>\n",
              "      <th>STATE</th>\n",
              "      <th>DISCOVERY_DATE</th>\n",
              "      <th>FIRE_SIZE</th>\n",
              "      <th>DATE</th>\n",
              "    </tr>\n",
              "  </thead>\n",
              "  <tbody>\n",
              "    <tr>\n",
              "      <th>0</th>\n",
              "      <td>2005</td>\n",
              "      <td>Miscellaneous</td>\n",
              "      <td>40.036944</td>\n",
              "      <td>-121.005833</td>\n",
              "      <td>CA</td>\n",
              "      <td>2453403.5</td>\n",
              "      <td>0.10</td>\n",
              "      <td>2005-02-02</td>\n",
              "    </tr>\n",
              "    <tr>\n",
              "      <th>1</th>\n",
              "      <td>2004</td>\n",
              "      <td>Lightning</td>\n",
              "      <td>38.933056</td>\n",
              "      <td>-120.404444</td>\n",
              "      <td>CA</td>\n",
              "      <td>2453137.5</td>\n",
              "      <td>0.25</td>\n",
              "      <td>2004-05-12</td>\n",
              "    </tr>\n",
              "    <tr>\n",
              "      <th>2</th>\n",
              "      <td>2004</td>\n",
              "      <td>Debris Burning</td>\n",
              "      <td>38.984167</td>\n",
              "      <td>-120.735556</td>\n",
              "      <td>CA</td>\n",
              "      <td>2453156.5</td>\n",
              "      <td>0.10</td>\n",
              "      <td>2004-05-31</td>\n",
              "    </tr>\n",
              "    <tr>\n",
              "      <th>3</th>\n",
              "      <td>2004</td>\n",
              "      <td>Lightning</td>\n",
              "      <td>38.559167</td>\n",
              "      <td>-119.913333</td>\n",
              "      <td>CA</td>\n",
              "      <td>2453184.5</td>\n",
              "      <td>0.10</td>\n",
              "      <td>2004-06-28</td>\n",
              "    </tr>\n",
              "    <tr>\n",
              "      <th>4</th>\n",
              "      <td>2004</td>\n",
              "      <td>Lightning</td>\n",
              "      <td>38.559167</td>\n",
              "      <td>-119.933056</td>\n",
              "      <td>CA</td>\n",
              "      <td>2453184.5</td>\n",
              "      <td>0.10</td>\n",
              "      <td>2004-06-28</td>\n",
              "    </tr>\n",
              "  </tbody>\n",
              "</table>\n",
              "</div>"
            ],
            "text/plain": [
              "   FIRE_YEAR STAT_CAUSE_DESCR   LATITUDE  ...  DISCOVERY_DATE FIRE_SIZE       DATE\n",
              "0       2005    Miscellaneous  40.036944  ...       2453403.5      0.10 2005-02-02\n",
              "1       2004        Lightning  38.933056  ...       2453137.5      0.25 2004-05-12\n",
              "2       2004   Debris Burning  38.984167  ...       2453156.5      0.10 2004-05-31\n",
              "3       2004        Lightning  38.559167  ...       2453184.5      0.10 2004-06-28\n",
              "4       2004        Lightning  38.559167  ...       2453184.5      0.10 2004-06-28\n",
              "\n",
              "[5 rows x 8 columns]"
            ]
          },
          "metadata": {
            "tags": []
          },
          "execution_count": 10
        }
      ]
    },
    {
      "cell_type": "code",
      "metadata": {
        "id": "v8LTqlqLLZt9",
        "colab_type": "code",
        "outputId": "dc28577b-ed7e-4a17-daa4-c721a694154c",
        "colab": {
          "base_uri": "https://localhost:8080/",
          "height": 204
        }
      },
      "source": [
        "#Getting some additional data fields such as month and day of the week.\n",
        "new_df['MONTH'] = pd.DatetimeIndex(new_df['DATE']).month\n",
        "new_df['DAY_OF_WEEK'] = new_df['DATE'].dt.weekday_name\n",
        "new_df.head()"
      ],
      "execution_count": 11,
      "outputs": [
        {
          "output_type": "execute_result",
          "data": {
            "text/html": [
              "<div>\n",
              "<style scoped>\n",
              "    .dataframe tbody tr th:only-of-type {\n",
              "        vertical-align: middle;\n",
              "    }\n",
              "\n",
              "    .dataframe tbody tr th {\n",
              "        vertical-align: top;\n",
              "    }\n",
              "\n",
              "    .dataframe thead th {\n",
              "        text-align: right;\n",
              "    }\n",
              "</style>\n",
              "<table border=\"1\" class=\"dataframe\">\n",
              "  <thead>\n",
              "    <tr style=\"text-align: right;\">\n",
              "      <th></th>\n",
              "      <th>FIRE_YEAR</th>\n",
              "      <th>STAT_CAUSE_DESCR</th>\n",
              "      <th>LATITUDE</th>\n",
              "      <th>LONGITUDE</th>\n",
              "      <th>STATE</th>\n",
              "      <th>DISCOVERY_DATE</th>\n",
              "      <th>FIRE_SIZE</th>\n",
              "      <th>DATE</th>\n",
              "      <th>MONTH</th>\n",
              "      <th>DAY_OF_WEEK</th>\n",
              "    </tr>\n",
              "  </thead>\n",
              "  <tbody>\n",
              "    <tr>\n",
              "      <th>0</th>\n",
              "      <td>2005</td>\n",
              "      <td>Miscellaneous</td>\n",
              "      <td>40.036944</td>\n",
              "      <td>-121.005833</td>\n",
              "      <td>CA</td>\n",
              "      <td>2453403.5</td>\n",
              "      <td>0.10</td>\n",
              "      <td>2005-02-02</td>\n",
              "      <td>2</td>\n",
              "      <td>Wednesday</td>\n",
              "    </tr>\n",
              "    <tr>\n",
              "      <th>1</th>\n",
              "      <td>2004</td>\n",
              "      <td>Lightning</td>\n",
              "      <td>38.933056</td>\n",
              "      <td>-120.404444</td>\n",
              "      <td>CA</td>\n",
              "      <td>2453137.5</td>\n",
              "      <td>0.25</td>\n",
              "      <td>2004-05-12</td>\n",
              "      <td>5</td>\n",
              "      <td>Wednesday</td>\n",
              "    </tr>\n",
              "    <tr>\n",
              "      <th>2</th>\n",
              "      <td>2004</td>\n",
              "      <td>Debris Burning</td>\n",
              "      <td>38.984167</td>\n",
              "      <td>-120.735556</td>\n",
              "      <td>CA</td>\n",
              "      <td>2453156.5</td>\n",
              "      <td>0.10</td>\n",
              "      <td>2004-05-31</td>\n",
              "      <td>5</td>\n",
              "      <td>Monday</td>\n",
              "    </tr>\n",
              "    <tr>\n",
              "      <th>3</th>\n",
              "      <td>2004</td>\n",
              "      <td>Lightning</td>\n",
              "      <td>38.559167</td>\n",
              "      <td>-119.913333</td>\n",
              "      <td>CA</td>\n",
              "      <td>2453184.5</td>\n",
              "      <td>0.10</td>\n",
              "      <td>2004-06-28</td>\n",
              "      <td>6</td>\n",
              "      <td>Monday</td>\n",
              "    </tr>\n",
              "    <tr>\n",
              "      <th>4</th>\n",
              "      <td>2004</td>\n",
              "      <td>Lightning</td>\n",
              "      <td>38.559167</td>\n",
              "      <td>-119.933056</td>\n",
              "      <td>CA</td>\n",
              "      <td>2453184.5</td>\n",
              "      <td>0.10</td>\n",
              "      <td>2004-06-28</td>\n",
              "      <td>6</td>\n",
              "      <td>Monday</td>\n",
              "    </tr>\n",
              "  </tbody>\n",
              "</table>\n",
              "</div>"
            ],
            "text/plain": [
              "   FIRE_YEAR STAT_CAUSE_DESCR   LATITUDE  ...       DATE MONTH  DAY_OF_WEEK\n",
              "0       2005    Miscellaneous  40.036944  ... 2005-02-02     2    Wednesday\n",
              "1       2004        Lightning  38.933056  ... 2004-05-12     5    Wednesday\n",
              "2       2004   Debris Burning  38.984167  ... 2004-05-31     5       Monday\n",
              "3       2004        Lightning  38.559167  ... 2004-06-28     6       Monday\n",
              "4       2004        Lightning  38.559167  ... 2004-06-28     6       Monday\n",
              "\n",
              "[5 rows x 10 columns]"
            ]
          },
          "metadata": {
            "tags": []
          },
          "execution_count": 11
        }
      ]
    },
    {
      "cell_type": "code",
      "metadata": {
        "id": "v64sgIGDLfy2",
        "colab_type": "code",
        "colab": {}
      },
      "source": [
        "#Applying GMM from scikit learn library on FIRE_SIZE and MONTH column\n",
        "gmm=GaussianMixture(n_components=4, covariance_type=\"spherical\").fit(new_df[['MONTH','FIRE_SIZE']])\n",
        "labels = gmm.predict(new_df[['MONTH','FIRE_SIZE']])"
      ],
      "execution_count": 0,
      "outputs": []
    },
    {
      "cell_type": "code",
      "metadata": {
        "id": "Jxbl8zFCOA3q",
        "colab_type": "code",
        "outputId": "79c293d6-2217-43a2-960a-d6a67b518339",
        "colab": {
          "base_uri": "https://localhost:8080/",
          "height": 621
        }
      },
      "source": [
        "#Plotting the clusters obtained\n",
        "plt.figure(figsize=(10,10))\n",
        "plt.scatter(new_df['MONTH'],new_df['FIRE_SIZE'], c=labels, s=100, alpha=0.5)\n",
        "plt.title('Gausian Mixture Model')\n",
        "plt.xlabel('Month ')\n",
        "plt.ylabel('Fire Size')\n",
        "plt.show()"
      ],
      "execution_count": 37,
      "outputs": [
        {
          "output_type": "display_data",
          "data": {
            "image/png": "[encoded data removed]",
            "text/plain": [
              "<Figure size 720x720 with 1 Axes>"
            ]
          },
          "metadata": {
            "tags": []
          }
        }
      ]
    },
    {
      "cell_type": "markdown",
      "metadata": {
        "id": "FbWEFUfo_N8l",
        "colab_type": "text"
      },
      "source": [
        "**The clusters obtained with k-means clustering and GMM are the same and we can see the majority of the big fires have happened in the months of June and July.**"
      ]
    },
    {
      "cell_type": "code",
      "metadata": {
        "id": "Ync_fIXxSHW-",
        "colab_type": "code",
        "colab": {}
      },
      "source": [
        "#Applying GMM from scikit learn library on FIRE_SIZE and MONTH column\n",
        "gmm1=GaussianMixture(n_components=4, covariance_type=\"spherical\").fit(new_df[['LATITUDE','LONGITUDE']])\n",
        "labels1 = gmm1.predict(new_df[['LATITUDE','LONGITUDE']])"
      ],
      "execution_count": 0,
      "outputs": []
    },
    {
      "cell_type": "code",
      "metadata": {
        "id": "Oaob5fVTScxL",
        "colab_type": "code",
        "outputId": "35d79f13-706b-428b-d216-4b8eaf176749",
        "colab": {
          "base_uri": "https://localhost:8080/",
          "height": 286
        }
      },
      "source": [
        "plt.scatter(new_df['LATITUDE'],new_df['LONGITUDE'], c=labels1, s=50, cmap='viridis')\n",
        "plt.title('Gausian Mixture Model')\n",
        "plt.xlabel('LATITUDE ')\n",
        "plt.ylabel('LONGITUDE')"
      ],
      "execution_count": 16,
      "outputs": [
        {
          "output_type": "execute_result",
          "data": {
            "text/plain": [
              "<matplotlib.collections.PathCollection at 0x7fc8f7ca9470>"
            ]
          },
          "metadata": {
            "tags": []
          },
          "execution_count": 16
        },
        {
          "output_type": "display_data",
          "data": {
            "image/png": "[encoded data removed]",
            "text/plain": [
              "<Figure size 432x288 with 1 Axes>"
            ]
          },
          "metadata": {
            "tags": []
          }
        }
      ]
    },
    {
      "cell_type": "markdown",
      "metadata": {
        "id": "3vvW1BmZBmtu",
        "colab_type": "text"
      },
      "source": [
        "**In the above GMM clustering plot we can see most of the fires have occurred in longitutes between -100 and -120 which is majorly California region which is same as K-means.**"
      ]
    },
    {
      "cell_type": "markdown",
      "metadata": {
        "id": "7a73QFhUB57B",
        "colab_type": "text"
      },
      "source": [
        "## Using triangulation method as discussed in last class to see if we can get some insightful clusters using GMM."
      ]
    },
    {
      "cell_type": "code",
      "metadata": {
        "id": "8zc4rzBq2N1e",
        "colab_type": "code",
        "colab": {}
      },
      "source": [
        "from sklearn import preprocessing \n",
        "  \n",
        "# label_encoder object knows how to understand word labels. \n",
        "label_encoder = preprocessing.LabelEncoder() \n",
        "  \n",
        "# Encode labels in column 'STAT_CAUSE_DESCR'. \n",
        "new_df['STAT_CAUSE_DESCR']= label_encoder.fit_transform(new_df['STAT_CAUSE_DESCR'])\n"
      ],
      "execution_count": 0,
      "outputs": []
    },
    {
      "cell_type": "code",
      "metadata": {
        "id": "nh8X5t2_4lcd",
        "colab_type": "code",
        "colab": {}
      },
      "source": [
        "#Finding average fire size by grouping 'STAT_CAUSE_DESCR' and 'MONTH' columns\n",
        "final_df=new_df.groupby(by=['STAT_CAUSE_DESCR','MONTH'],axis=0)['FIRE_SIZE'].mean().reset_index()"
      ],
      "execution_count": 0,
      "outputs": []
    },
    {
      "cell_type": "code",
      "metadata": {
        "id": "dUoRK7do48Pl",
        "colab_type": "code",
        "colab": {
          "base_uri": "https://localhost:8080/",
          "height": 419
        },
        "outputId": "53ee1dfb-443f-419c-e257-4aefa14617a9"
      },
      "source": [
        "final_df"
      ],
      "execution_count": 19,
      "outputs": [
        {
          "output_type": "execute_result",
          "data": {
            "text/html": [
              "<div>\n",
              "<style scoped>\n",
              "    .dataframe tbody tr th:only-of-type {\n",
              "        vertical-align: middle;\n",
              "    }\n",
              "\n",
              "    .dataframe tbody tr th {\n",
              "        vertical-align: top;\n",
              "    }\n",
              "\n",
              "    .dataframe thead th {\n",
              "        text-align: right;\n",
              "    }\n",
              "</style>\n",
              "<table border=\"1\" class=\"dataframe\">\n",
              "  <thead>\n",
              "    <tr style=\"text-align: right;\">\n",
              "      <th></th>\n",
              "      <th>STAT_CAUSE_DESCR</th>\n",
              "      <th>MONTH</th>\n",
              "      <th>FIRE_SIZE</th>\n",
              "    </tr>\n",
              "  </thead>\n",
              "  <tbody>\n",
              "    <tr>\n",
              "      <th>0</th>\n",
              "      <td>0</td>\n",
              "      <td>1</td>\n",
              "      <td>22.872258</td>\n",
              "    </tr>\n",
              "    <tr>\n",
              "      <th>1</th>\n",
              "      <td>0</td>\n",
              "      <td>2</td>\n",
              "      <td>22.380764</td>\n",
              "    </tr>\n",
              "    <tr>\n",
              "      <th>2</th>\n",
              "      <td>0</td>\n",
              "      <td>3</td>\n",
              "      <td>24.725344</td>\n",
              "    </tr>\n",
              "    <tr>\n",
              "      <th>3</th>\n",
              "      <td>0</td>\n",
              "      <td>4</td>\n",
              "      <td>28.274510</td>\n",
              "    </tr>\n",
              "    <tr>\n",
              "      <th>4</th>\n",
              "      <td>0</td>\n",
              "      <td>5</td>\n",
              "      <td>40.286408</td>\n",
              "    </tr>\n",
              "    <tr>\n",
              "      <th>...</th>\n",
              "      <td>...</td>\n",
              "      <td>...</td>\n",
              "      <td>...</td>\n",
              "    </tr>\n",
              "    <tr>\n",
              "      <th>151</th>\n",
              "      <td>12</td>\n",
              "      <td>8</td>\n",
              "      <td>27.350717</td>\n",
              "    </tr>\n",
              "    <tr>\n",
              "      <th>152</th>\n",
              "      <td>12</td>\n",
              "      <td>9</td>\n",
              "      <td>6.623780</td>\n",
              "    </tr>\n",
              "    <tr>\n",
              "      <th>153</th>\n",
              "      <td>12</td>\n",
              "      <td>10</td>\n",
              "      <td>5.447004</td>\n",
              "    </tr>\n",
              "    <tr>\n",
              "      <th>154</th>\n",
              "      <td>12</td>\n",
              "      <td>11</td>\n",
              "      <td>10.183954</td>\n",
              "    </tr>\n",
              "    <tr>\n",
              "      <th>155</th>\n",
              "      <td>12</td>\n",
              "      <td>12</td>\n",
              "      <td>51.644389</td>\n",
              "    </tr>\n",
              "  </tbody>\n",
              "</table>\n",
              "<p>156 rows × 3 columns</p>\n",
              "</div>"
            ],
            "text/plain": [
              "     STAT_CAUSE_DESCR  MONTH  FIRE_SIZE\n",
              "0                   0      1  22.872258\n",
              "1                   0      2  22.380764\n",
              "2                   0      3  24.725344\n",
              "3                   0      4  28.274510\n",
              "4                   0      5  40.286408\n",
              "..                ...    ...        ...\n",
              "151                12      8  27.350717\n",
              "152                12      9   6.623780\n",
              "153                12     10   5.447004\n",
              "154                12     11  10.183954\n",
              "155                12     12  51.644389\n",
              "\n",
              "[156 rows x 3 columns]"
            ]
          },
          "metadata": {
            "tags": []
          },
          "execution_count": 19
        }
      ]
    },
    {
      "cell_type": "code",
      "metadata": {
        "id": "SuwCoqR45Lcw",
        "colab_type": "code",
        "colab": {}
      },
      "source": [
        "#Applying GMM from scikit learn library on AVG_FIRE_SIZE, STAT_CAUSE_DESCR and MONTH column\n",
        "gmm3=GaussianMixture(n_components=4, covariance_type=\"spherical\").fit(final_df)\n",
        "labels3 = gmm3.predict(final_df)"
      ],
      "execution_count": 0,
      "outputs": []
    },
    {
      "cell_type": "code",
      "metadata": {
        "id": "4QzB9_B75uo3",
        "colab_type": "code",
        "colab": {
          "base_uri": "https://localhost:8080/",
          "height": 428
        },
        "outputId": "f8ae4046-c144-4df5-9505-91b2c0d2c93b"
      },
      "source": [
        "from mpl_toolkits.mplot3d import Axes3D\n",
        "plt.figure('GMM on wildfire Dataset', figsize=(7,7))\n",
        "ax = plt.axes(projection = '3d')\n",
        "ax.scatter(final_df.STAT_CAUSE_DESCR,final_df.MONTH,final_df.FIRE_SIZE , cmap='viridis', s=50, c=labels3)"
      ],
      "execution_count": 27,
      "outputs": [
        {
          "output_type": "execute_result",
          "data": {
            "text/plain": [
              "<mpl_toolkits.mplot3d.art3d.Path3DCollection at 0x7fc90f9fb588>"
            ]
          },
          "metadata": {
            "tags": []
          },
          "execution_count": 27
        },
        {
          "output_type": "display_data",
          "data": {
            "image/png": "[encoded data removed]",
            "text/plain": [
              "<Figure size 504x504 with 1 Axes>"
            ]
          },
          "metadata": {
            "tags": []
          }
        }
      ]
    },
    {
      "cell_type": "markdown",
      "metadata": {
        "id": "DfofR8tBDJsm",
        "colab_type": "text"
      },
      "source": [
        "**By clustering on the basis of average fire size, cause of fire and month, it can be seen that most of the big fires have occurred in the months of June and July.**"
      ]
    }
  ]
}